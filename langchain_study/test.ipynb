{
 "cells": [
  {
   "cell_type": "code",
   "execution_count": 53,
   "metadata": {},
   "outputs": [],
   "source": [
    "import os\n",
    "from dotenv import load_dotenv\n",
    "\n",
    "load_dotenv()\n",
    "openai_api_key = os.getenv(\"openai\")"
   ]
  },
  {
   "cell_type": "code",
   "execution_count": 66,
   "metadata": {},
   "outputs": [],
   "source": [
    "from langchain.chat_models import ChatOpenAI\n",
    "from langchain import PromptTemplate, LLMChain\n",
    "from langchain.prompts.chat import (\n",
    "    ChatPromptTemplate,\n",
    "    SystemMessagePromptTemplate,\n",
    "    AIMessagePromptTemplate,\n",
    "    HumanMessagePromptTemplate,\n",
    ")\n",
    "\n",
    "from langchain.callbacks import get_openai_callback\n",
    "\n",
    "from langchain.schema import (\n",
    "    AIMessage,\n",
    "    HumanMessage,\n",
    "    SystemMessage\n",
    ")"
   ]
  },
  {
   "cell_type": "code",
   "execution_count": 56,
   "metadata": {},
   "outputs": [],
   "source": [
    "chat = ChatOpenAI(temperature=1,\n",
    "                    # max_tokens=,\n",
    "                    # model_name='text-davinci-003',\n",
    "                    openai_api_key=openai_api_key)"
   ]
  },
  {
   "cell_type": "code",
   "execution_count": 57,
   "metadata": {},
   "outputs": [],
   "source": [
    "prompt=PromptTemplate(\n",
    "    template=\"You are an assistant who helps me brainstorm \\\n",
    "    to find creative topics using the data given to me.\",\n",
    "    input_variables=[],\n",
    ")\n",
    "system_message_prompt = SystemMessagePromptTemplate(prompt=prompt)"
   ]
  },
  {
   "cell_type": "code",
   "execution_count": 8,
   "metadata": {},
   "outputs": [],
   "source": [
    "prompt=PromptTemplate(\n",
    "    template=\"{text}\",\n",
    "    input_variables=[\"text\"],\n",
    ")\n",
    "human_message_prompt = HumanMessagePromptTemplate(prompt=prompt)"
   ]
  },
  {
   "cell_type": "code",
   "execution_count": 9,
   "metadata": {},
   "outputs": [],
   "source": [
    "chat_prompt = ChatPromptTemplate.from_messages([system_message_prompt, human_message_prompt])"
   ]
  },
  {
   "cell_type": "code",
   "execution_count": 10,
   "metadata": {},
   "outputs": [],
   "source": [
    "chain = LLMChain(llm=chat, prompt=chat_prompt)"
   ]
  },
  {
   "cell_type": "code",
   "execution_count": 60,
   "metadata": {},
   "outputs": [],
   "source": [
    "def prompt_text(data_prompt:str, field:str, purpose:str, num_topics:int) -> str:\n",
    "    prompt = f\"Generate {num_topics} topics in the {field} field for the following purpose: {purpose}\\n\\nData:\\n\"\n",
    "    prompt += data_prompt\n",
    "    prompt += \"\\nOutput:\"\n",
    "    for num in range(1, num_topics+1):\n",
    "        prompt += f'\\n{num}. '\n",
    "    # prompt += f\"\\n1. \\n2. \\n3. \\n4. \\n5. \\n\"\n",
    "    return prompt\n",
    "\n",
    "def generate_prompt(data_infos):\n",
    "    \"\"\"\n",
    "    데이터 정보가 담긴 dict를 받아서 해당 데이터에 대한 프롬프트를 생성합니다.\n",
    "\n",
    "    Args:\n",
    "        data_infos (dict): data info(dict)가 담긴 dict입니다.\n",
    "            각 데이터의 id값을 key로 가지고 있습니다.\n",
    "        data_info (dict): 데이터 정보가 담긴 dict입니다. 각 데이터는 dict 형태로 되어 있으며,\n",
    "            다음과 같은 key를 포함합니다:\n",
    "            - 'data_name' (str): 데이터명\n",
    "            - 'data_description' (str): 데이터 설명\n",
    "            - 'columns' (list of dict): 데이터 칼럼 정보가 담긴 dict의 리스트입니다. 각 dict는\n",
    "                다음과 같은 key를 포함합니다:\n",
    "                - 'column_name' (str): 칼럼명\n",
    "                - 'column_description' (str): 칼럼 설명\n",
    "\n",
    "    Returns:\n",
    "        str: 해당 데이터에 대한 프롬프트 문자열입니다.\n",
    "    \"\"\"\n",
    "    prompt = \"\"\n",
    "    # prompt += f\"{'-'*10}\\n\"\n",
    "    for n, (id, data) in enumerate(data_infos.items(), start=1):\n",
    "        prompt += f\"{n}. {data['data_name']}\\n\"\n",
    "        prompt += f\"- data description\\n\"\n",
    "        prompt += f\"{data['data_description']}\\n\"\n",
    "        prompt += f\"- columns info\\n\"\n",
    "        for column in data['columns']:\n",
    "            prompt += f\"\\t- {column['column_name']}: {column['column_description']}\\n\"\n",
    "        # prompt += f\"{'-'*10}\\n\\n\"\n",
    "    return prompt"
   ]
  },
  {
   "cell_type": "code",
   "execution_count": 61,
   "metadata": {},
   "outputs": [],
   "source": [
    "data_info = {\n",
    "    12345:{\n",
    "        'data_name': 'iris',\n",
    "        'data_description': '붓꽃 데이터셋',\n",
    "        'columns': [\n",
    "            {'column_name': 'sepal_length', 'column_description': '꽃받침 길이'},\n",
    "            {'column_name': 'sepal_width', 'column_description': '꽃받침 너비'},\n",
    "            {'column_name': 'petal_length', 'column_description': '꽃잎 길이'},\n",
    "            {'column_name': 'petal_width', 'column_description': '꽃잎 너비'},\n",
    "            {'column_name': 'class', 'column_description': '붓꽃 종류'}\n",
    "        ]\n",
    "    },\n",
    "    12346:{\n",
    "        'data_name': 'titanic',\n",
    "        'data_description': '타이타닉 호 생존자 데이터',\n",
    "        'columns': [\n",
    "            {'column_name': 'survived', 'column_description': '생존 여부 (0: 사망, 1: 생존)'},\n",
    "            {'column_name': 'pclass', 'column_description': '선실 등급 (1, 2, 3 중 하나)'},\n",
    "            {'column_name': 'sex', 'column_description': '성별'},\n",
    "            {'column_name': 'age', 'column_description': '나이'},\n",
    "            {'column_name': 'fare', 'column_description': '운임'},\n",
    "            {'column_name': 'embarked', 'column_description': '승선 항구 (C = Cherbourg, Q = Queenstown, S = Southampton)'}\n",
    "        ]\n",
    "    }\n",
    "}"
   ]
  },
  {
   "cell_type": "code",
   "execution_count": 62,
   "metadata": {},
   "outputs": [],
   "source": [
    "data_prompt = generate_prompt(data_info)\n",
    "text = prompt_text(data_prompt, 'ss', '아이더', 5)"
   ]
  },
  {
   "cell_type": "code",
   "execution_count": 23,
   "metadata": {},
   "outputs": [
    {
     "data": {
      "text/plain": [
       "[{'data_name': 'iris',\n",
       "  'data_description': '붓꽃 데이터셋',\n",
       "  'columns': [{'column_name': 'sepal_length', 'column_description': '꽃받침 길이'},\n",
       "   {'column_name': 'sepal_width', 'column_description': '꽃받침 너비'},\n",
       "   {'column_name': 'petal_length', 'column_description': '꽃잎 길이'},\n",
       "   {'column_name': 'petal_width', 'column_description': '꽃잎 너비'},\n",
       "   {'column_name': 'class', 'column_description': '붓꽃 종류'}]},\n",
       " {'data_name': 'titanic',\n",
       "  'data_description': '타이타닉 호 생존자 데이터',\n",
       "  'columns': [{'column_name': 'survived',\n",
       "    'column_description': '생존 여부 (0: 사망, 1: 생존)'},\n",
       "   {'column_name': 'pclass', 'column_description': '선실 등급 (1, 2, 3 중 하나)'},\n",
       "   {'column_name': 'sex', 'column_description': '성별'},\n",
       "   {'column_name': 'age', 'column_description': '나이'},\n",
       "   {'column_name': 'fare', 'column_description': '운임'},\n",
       "   {'column_name': 'embarked',\n",
       "    'column_description': '승선 항구 (C = Cherbourg, Q = Queenstown, S = Southampton)'}]}]"
      ]
     },
     "execution_count": 23,
     "metadata": {},
     "output_type": "execute_result"
    }
   ],
   "source": [
    "data_info"
   ]
  },
  {
   "cell_type": "code",
   "execution_count": 67,
   "metadata": {},
   "outputs": [
    {
     "name": "stdout",
     "output_type": "stream",
     "text": [
      "Tokens Used: 379\n",
      "\tPrompt Tokens: 291\n",
      "\tCompletion Tokens: 88\n",
      "Successful Requests: 1\n",
      "Total Cost (USD): $0.000758\n"
     ]
    }
   ],
   "source": [
    "with get_openai_callback() as cb:\n",
    "    data_prompt = generate_prompt(data_info)\n",
    "    res = chain.run(text=text)\n",
    "    # result = llm(\"Tell me a joke\")\n",
    "    print(cb)\n",
    "    # print(cb.total_tokens)"
   ]
  },
  {
   "cell_type": "code",
   "execution_count": 64,
   "metadata": {},
   "outputs": [
    {
     "name": "stdout",
     "output_type": "stream",
     "text": [
      "1. Exploring Iris dataset: A Comprehensive Analysis of Sepal and Petal Attributes\n",
      "2. Titanic Survival Analysis: Insights into the Impact of Age, Gender and Class on Passenger Survival\n",
      "3. Visualizing Iris Dataset: Uncovering Hidden Patterns and Correlations through Data Visualization Techniques\n",
      "4. Predicting Titanic Passenger Survival: A Machine Learning Analysis based on Passenger Attributes\n",
      "5. Embarking on Titanic's Voyage: An Exploratory Data Analysis of Passenger Demographics and Ticket Prices.\n"
     ]
    }
   ],
   "source": [
    "print(res)"
   ]
  },
  {
   "cell_type": "code",
   "execution_count": 69,
   "metadata": {},
   "outputs": [
    {
     "data": {
      "text/plain": [
       "['Understanding the correlation between petal length and width in the iris dataset',\n",
       " 'Demographic analysis of Titanic survivors: age, gender, and class',\n",
       " 'Predicting survival rates on the Titanic based on passenger data using machine learning algorithms',\n",
       " 'A comparison of the distribution of sepal length and width in different types of iris flowers ',\n",
       " 'Exploring the relationship between fare and survival rates on the Titanic in different passenger classes']"
      ]
     },
     "execution_count": 69,
     "metadata": {},
     "output_type": "execute_result"
    }
   ],
   "source": [
    "import re\n",
    "topics = re.findall(r\"\\d+\\.\\s(.+)\", res)\n",
    "topics"
   ]
  },
  {
   "cell_type": "code",
   "execution_count": null,
   "metadata": {},
   "outputs": [],
   "source": []
  }
 ],
 "metadata": {
  "kernelspec": {
   "display_name": ".gptvenv",
   "language": "python",
   "name": "python3"
  },
  "language_info": {
   "codemirror_mode": {
    "name": "ipython",
    "version": 3
   },
   "file_extension": ".py",
   "mimetype": "text/x-python",
   "name": "python",
   "nbconvert_exporter": "python",
   "pygments_lexer": "ipython3",
   "version": "3.9.6"
  },
  "orig_nbformat": 4
 },
 "nbformat": 4,
 "nbformat_minor": 2
}
