{
 "cells": [
  {
   "cell_type": "code",
   "execution_count": 1,
   "metadata": {},
   "outputs": [],
   "source": [
    "from instagrapi import Client\n",
    "from instagrapi.types import Usertag, Location\n",
    "\n",
    "from dotenv import load_dotenv\n",
    "import config\n",
    "import os"
   ]
  },
  {
   "cell_type": "code",
   "execution_count": 2,
   "metadata": {},
   "outputs": [],
   "source": [
    "class InstagramAPI:\n",
    "    def __init__(self):\n",
    "        self.client = Client()\n",
    "        self.origin_tags = ['블로그', '개발자', '기획자', 'AI']\n",
    "        self.setting()\n",
    "    \n",
    "    def __del__(self):\n",
    "        self.client.logout()\n",
    "        \n",
    "    def setting(self):\n",
    "        load_dotenv()\n",
    "        self.client.login(os.getenv('META_ACCOUNT_USERNAME'),\n",
    "                            os.getenv('META_ACCOUNT_PASSWORD'))\n",
    "        \n",
    "        # self.client.account_info()\n",
    "\n",
    "    def set_caption(self, title, tags:list, detail=None):\n",
    "        res = '[ ' + title + \" ]\\n\"\n",
    "        if detail:\n",
    "            res += detail + \"\\n\"\n",
    "        res += \"\\n\\n\\nPlease check the profile link for details.\" + \"\\n\"\n",
    "        res += \"@gwani_17 @gwani_portfolio\" + \"\\n\"\n",
    "        for tag in tags + self.origin_tags:\n",
    "            res += '#' + tag + ' '\n",
    "        return res\n",
    "    \n",
    "    def post_photo(self, path_to_photo, caption):\n",
    "        user = self.client.user_info_by_username('gwani_17')\n",
    "        media = self.client.photo_upload(path=path_to_photo, caption=caption,\n",
    "                                        usertags=[Usertag(user=user, x=0.5, y=0.5)],\n",
    "                                        extra_data={\"custom_accessibility_caption\": \"alt text example\",\n",
    "                                                    \"like_and_view_counts_disabled\": 0,\n",
    "                                                    \"disable_comments\": 0})\n",
    "        return media.dict()\n",
    "            \n",
    "\n",
    "    def post_story(self, path_to_photo, caption):\n",
    "        self.client.story_upload(path_to_photo, caption=caption)"
   ]
  },
  {
   "cell_type": "code",
   "execution_count": 3,
   "metadata": {},
   "outputs": [],
   "source": [
    "insta = InstagramAPI()"
   ]
  },
  {
   "cell_type": "code",
   "execution_count": 6,
   "metadata": {},
   "outputs": [
    {
     "data": {
      "text/plain": [
       "Account(pk='28011841027', username='gwani_portfolio', full_name='김택관', is_private=False, profile_pic_url=HttpUrl('https://scontent-hkg4-2.cdninstagram.com/v/t51.2885-19/341004668_230898352818628_4752525786048619772_n.jpg?stp=dst-jpg_s150x150&_nc_ht=scontent-hkg4-2.cdninstagram.com&_nc_cat=104&_nc_ohc=_9CHDBECv3gAX_pIGvO&edm=AJlpnE4BAAAA&ccb=7-5&oh=00_AfDHoGqd2SyIDPhX_eFYc0zwty1qEZLhCMOk3hc_tBjSvQ&oe=6440B3FC&_nc_sid=312772', ), is_verified=False, biography='@gwani_17', external_url='http://kimtaekgwan.oopy.io', is_business=True, birthday='2000-07-17', phone_number='+821041732612', gender=3, email='sbe07032@naver.com')"
      ]
     },
     "execution_count": 6,
     "metadata": {},
     "output_type": "execute_result"
    }
   ],
   "source": [
    "insta.client.account_info()"
   ]
  },
  {
   "attachments": {},
   "cell_type": "markdown",
   "metadata": {},
   "source": [
    "# 게시물 포스팅하기"
   ]
  },
  {
   "cell_type": "code",
   "execution_count": 7,
   "metadata": {},
   "outputs": [],
   "source": [
    "path_to_photo = 'data/230416.jpg'\n",
    "title = 'Intro. 실패 : 도전'\n",
    "tags = ['0일차', '실패', '도전', '두뇌시스템', '성장']"
   ]
  },
  {
   "cell_type": "code",
   "execution_count": 8,
   "metadata": {},
   "outputs": [
    {
     "name": "stdout",
     "output_type": "stream",
     "text": [
      "[ Intro. 실패 : 도전 ]\n",
      "\n",
      "\n",
      "\n",
      "Please check the profile link for details.\n",
      "@gwani_17 @gwani_portfolio\n",
      "#0일차 #실패 #도전 #두뇌시스템 #성장 #블로그 #개발자 #기획자 #AI \n"
     ]
    }
   ],
   "source": [
    "caption = insta.set_caption(title, tags)\n",
    "print(caption)"
   ]
  },
  {
   "cell_type": "code",
   "execution_count": 9,
   "metadata": {},
   "outputs": [
    {
     "data": {
      "text/plain": [
       "{'pk': '3081617771195614864',\n",
       " 'id': '3081617771195614864_28011841027',\n",
       " 'code': 'CrEGwkppUaQ',\n",
       " 'taken_at': datetime.datetime(2023, 4, 15, 16, 51, 26, tzinfo=datetime.timezone.utc),\n",
       " 'media_type': 1,\n",
       " 'image_versions2': {'candidates': [{'width': 1080,\n",
       "    'height': 1080,\n",
       "    'url': 'https://scontent-hkg4-1.cdninstagram.com/v/t51.2885-15/341340954_2342105329294754_3810134530011243114_n.jpg?stp=cp6_dst-jpg_e35_s1080x1080&_nc_ht=scontent-hkg4-1.cdninstagram.com&_nc_cat=102&_nc_ohc=e35uIxhzJkMAX_KP8i6&edm=ACqnv0EBAAAA&ccb=7-5&ig_cache_key=MzA4MTYxNzc3MTE5NTYxNDg2NA%3D%3D.2-ccb7-5&oh=00_AfDMJuxEbqLhDfdCITZtr63q9uVwyW6VSwgLy1g8x26J4g&oe=643FB353&_nc_sid=9ec724',\n",
       "    'scans_profile': 'e35',\n",
       "    'estimated_scans_sizes': [53959,\n",
       "     107918,\n",
       "     161877,\n",
       "     215836,\n",
       "     269795,\n",
       "     325642,\n",
       "     394216,\n",
       "     439026,\n",
       "     485631]},\n",
       "   {'width': 360,\n",
       "    'height': 360,\n",
       "    'url': 'https://scontent-hkg4-1.cdninstagram.com/v/t51.2885-15/341340954_2342105329294754_3810134530011243114_n.jpg?stp=cp6_dst-jpg_e35_s360x360&_nc_ht=scontent-hkg4-1.cdninstagram.com&_nc_cat=102&_nc_ohc=e35uIxhzJkMAX_KP8i6&edm=ACqnv0EBAAAA&ccb=7-5&ig_cache_key=MzA4MTYxNzc3MTE5NTYxNDg2NA%3D%3D.2-ccb7-5&oh=00_AfCwidk81Qk0Ryc4uxWi50FwfaaNr6zdseY1EkjkEYfRyw&oe=643FB353&_nc_sid=9ec724',\n",
       "    'scans_profile': 'e35',\n",
       "    'estimated_scans_sizes': [5511,\n",
       "     11023,\n",
       "     16535,\n",
       "     22047,\n",
       "     27559,\n",
       "     34402,\n",
       "     444318,\n",
       "     49607,\n",
       "     49607]}]},\n",
       " 'product_type': 'feed',\n",
       " 'thumbnail_url': HttpUrl('https://scontent-hkg4-1.cdninstagram.com/v/t51.2885-15/341340954_2342105329294754_3810134530011243114_n.jpg?stp=cp6_dst-jpg_e35_s1080x1080&_nc_ht=scontent-hkg4-1.cdninstagram.com&_nc_cat=102&_nc_ohc=e35uIxhzJkMAX_KP8i6&edm=ACqnv0EBAAAA&ccb=7-5&ig_cache_key=MzA4MTYxNzc3MTE5NTYxNDg2NA%3D%3D.2-ccb7-5&oh=00_AfDMJuxEbqLhDfdCITZtr63q9uVwyW6VSwgLy1g8x26J4g&oe=643FB353&_nc_sid=9ec724', ),\n",
       " 'location': None,\n",
       " 'user': {'pk': '28011841027',\n",
       "  'username': 'gwani_portfolio',\n",
       "  'full_name': '김택관',\n",
       "  'profile_pic_url': HttpUrl('https://scontent-hkg4-2.cdninstagram.com/v/t51.2885-19/341004668_230898352818628_4752525786048619772_n.jpg?stp=dst-jpg_s150x150&_nc_ht=scontent-hkg4-2.cdninstagram.com&_nc_cat=104&_nc_ohc=_9CHDBECv3gAX_pIGvO&edm=ACqnv0EBAAAA&ccb=7-5&oh=00_AfDaTYjkId3EENfBwvBc-OHyryZHpaSKKT9PtYQgGN6E8Q&oe=6440B3FC&_nc_sid=9ec724', ),\n",
       "  'profile_pic_url_hd': None,\n",
       "  'is_private': False,\n",
       "  'stories': []},\n",
       " 'comment_count': 0,\n",
       " 'comments_disabled': False,\n",
       " 'commenting_disabled_for_viewer': False,\n",
       " 'like_count': 0,\n",
       " 'play_count': 0,\n",
       " 'has_liked': False,\n",
       " 'caption_text': '[ Intro. 실패 : 도전 ]\\n\\nPlease check the profile link for details.\\n@gwani_17 @gwani_portfolio\\n#0일차 #실패 #도전 #두뇌시스템 #성장 #블로그 #개발자 #기획자 #AI',\n",
       " 'accessibility_caption': 'alt text example',\n",
       " 'usertags': [{'user': {'pk': '3158270183',\n",
       "    'username': 'gwani_17',\n",
       "    'full_name': '김택관',\n",
       "    'profile_pic_url': HttpUrl('https://scontent-hkg4-1.cdninstagram.com/v/t51.2885-19/79998915_997681820603688_6016720793344409600_n.jpg?stp=dst-jpg_s150x150&_nc_ht=scontent-hkg4-1.cdninstagram.com&_nc_cat=100&_nc_ohc=nVwLSuB2Lm8AX_lbOir&edm=ACqnv0EBAAAA&ccb=7-5&oh=00_AfAGDJ_dK2Ti6pFoBNukix3GDSi-HnaSxLvJj9cncjaxuw&oe=643F842F&_nc_sid=9ec724', ),\n",
       "    'profile_pic_url_hd': None,\n",
       "    'is_private': True,\n",
       "    'stories': []},\n",
       "   'x': 0.5,\n",
       "   'y': 0.5}],\n",
       " 'sponsor_tags': [],\n",
       " 'video_url': None,\n",
       " 'view_count': 0,\n",
       " 'video_duration': 0.0,\n",
       " 'title': '',\n",
       " 'resources': [],\n",
       " 'clips_metadata': {}}"
      ]
     },
     "execution_count": 9,
     "metadata": {},
     "output_type": "execute_result"
    }
   ],
   "source": [
    "insta.post_photo(path_to_photo, caption)"
   ]
  },
  {
   "attachments": {},
   "cell_type": "markdown",
   "metadata": {},
   "source": [
    "---"
   ]
  },
  {
   "attachments": {},
   "cell_type": "markdown",
   "metadata": {},
   "source": [
    "# 스토리 공유"
   ]
  },
  {
   "cell_type": "code",
   "execution_count": 14,
   "metadata": {},
   "outputs": [
    {
     "data": {
      "text/plain": [
       "True"
      ]
     },
     "execution_count": 14,
     "metadata": {},
     "output_type": "execute_result"
    }
   ],
   "source": [
    "from instagrapi import Client\n",
    "from instagrapi.types import Usertag, Location\n",
    "from instagrapi.types import StoryMention, StoryMedia, StoryLink, StoryHashtag\n",
    "\n",
    "\n",
    "from dotenv import load_dotenv\n",
    "import os\n",
    "\n",
    "load_dotenv()"
   ]
  },
  {
   "cell_type": "code",
   "execution_count": 4,
   "metadata": {},
   "outputs": [
    {
     "data": {
      "text/plain": [
       "True"
      ]
     },
     "execution_count": 4,
     "metadata": {},
     "output_type": "execute_result"
    }
   ],
   "source": [
    "cl = Client()\n",
    "cl.login(os.getenv('META_ACCOUNT_USERNAME'), os.getenv('META_ACCOUNT_PASSWORD'))"
   ]
  },
  {
   "cell_type": "code",
   "execution_count": 10,
   "metadata": {},
   "outputs": [
    {
     "data": {
      "text/plain": [
       "'28011841027'"
      ]
     },
     "execution_count": 10,
     "metadata": {},
     "output_type": "execute_result"
    }
   ],
   "source": []
  },
  {
   "cell_type": "code",
   "execution_count": 11,
   "metadata": {},
   "outputs": [
    {
     "data": {
      "text/plain": [
       "'3081529250317343363'"
      ]
     },
     "execution_count": 11,
     "metadata": {},
     "output_type": "execute_result"
    }
   ],
   "source": [
    "user_id = int(cl.account_info().pk)\n",
    "media_pk = cl.user_medias_gql(user_id=user_id, amount=5, sleep= 2)[0].pk\n",
    "media_pk"
   ]
  },
  {
   "cell_type": "code",
   "execution_count": 13,
   "metadata": {},
   "outputs": [],
   "source": [
    "media_path = cl.photo_download(media_pk=media_pk, folder='data')"
   ]
  },
  {
   "cell_type": "code",
   "execution_count": 22,
   "metadata": {},
   "outputs": [
    {
     "data": {
      "text/plain": [
       "Story(pk='3081578258981282771', id='3081578258981282771_28011841027', code='CrD9xmCJWPT', taken_at=datetime.datetime(2023, 4, 15, 15, 32, 48, tzinfo=datetime.timezone.utc), media_type=1, product_type='story', thumbnail_url=HttpUrl('https://scontent-hkg4-1.cdninstagram.com/v/t51.2885-15/330030126_775582873823935_1973275915834431244_n.jpg?stp=dst-jpg_e35&_nc_ht=scontent-hkg4-1.cdninstagram.com&_nc_cat=107&_nc_ohc=X-w-8-HkUhMAX-6I5UK&edm=AO5kzY0BAAAA&ccb=7-5&ig_cache_key=MzA4MTU3ODI1ODk4MTI4Mjc3MQ%3D%3D.2-ccb7-5&oh=00_AfCFU_Hkyz9eFBZRUE5LCi6Honu4iveE1Q3UKyFhzouulA&oe=643CB65A&_nc_sid=560b88', ), user=UserShort(pk='28011841027', username='gwani_portfolio', full_name='김택관', profile_pic_url=HttpUrl('https://scontent-hkg4-2.cdninstagram.com/v/t51.2885-19/341004668_230898352818628_4752525786048619772_n.jpg?stp=dst-jpg_s150x150&_nc_ht=scontent-hkg4-2.cdninstagram.com&_nc_cat=104&_nc_ohc=_9CHDBECv3gAX_pIGvO&edm=AO5kzY0BAAAA&ccb=7-5&oh=00_AfAI5xkcCt5Jl-m8uRsCJTa3bOty7MaEgBGByUnsrC9W3A&oe=643EB9BC&_nc_sid=560b88', ), profile_pic_url_hd=None, is_private=False, stories=[]), video_url=None, video_duration=0.0, sponsor_tags=[], mentions=[StoryMention(user=UserShort(pk='3158270183', username='gwani_17', full_name='김택관', profile_pic_url=HttpUrl('https://scontent-hkg4-1.cdninstagram.com/v/t51.2885-19/79998915_997681820603688_6016720793344409600_n.jpg?stp=dst-jpg_s150x150&_nc_ht=scontent-hkg4-1.cdninstagram.com&_nc_cat=100&_nc_ohc=nVwLSuB2Lm8AX_lbOir&edm=AKEQFekBAAAA&ccb=7-5&oh=00_AfDdrskBmNCCXXeredT0kvFqkH1pwmQvTMJaOYLRHDmHXw&oe=643F842F&_nc_sid=035b3a', ), profile_pic_url_hd=HttpUrl('https://scontent-hkg4-1.cdninstagram.com/v/t51.2885-19/79998915_997681820603688_6016720793344409600_n.jpg?stp=dst-jpg_s320x320&_nc_ht=scontent-hkg4-1.cdninstagram.com&_nc_cat=100&_nc_ohc=nVwLSuB2Lm8AX_lbOir&edm=AKEQFekBAAAA&ccb=7-5&oh=00_AfCc-r0QDgOTXNTmtxDWKqwLGOZNEqyNAIfiovMR8kX1Ag&oe=643F842F&_nc_sid=035b3a', ), is_private=True, stories=[]), x=0.49892962, y=0.703125, width=0.02, height=0.125)], links=[StoryLink(webUri=HttpUrl('https://kimtaekgwan.oopy.io', ), x=0.3, y=0.7, z=0.2, width=1.0, height=0.25875, rotation=0.0)], hashtags=[StoryHashtag(hashtag=Hashtag(id='17974851430064610', name='dhbastards', media_count=6984, profile_pic_url=HttpUrl('https://scontent-hkg4-1.cdninstagram.com/v/t51.2885-15/168837784_269129274944594_7030776368397808443_n.jpg?stp=dst-jpg_e35_s150x150&_nc_ht=scontent-hkg4-1.cdninstagram.com&_nc_cat=102&_nc_ohc=5xQLPC8jlPUAX8-WnBM&edm=ABZsPhsBAAAA&ccb=7-5&oh=00_AfC3Jlc9jAp5q13u20EEBYwE0_aGjVlk50rSkIymyQl7bg&oe=643ECC54&_nc_sid=4efc9f', )), x=0.23, y=0.32, width=0.5, height=0.22)], locations=[], stickers=[], medias=[StoryMedia(x=0.0, y=0.0, z=0, width=0.02, height=0.02, rotation=0.0, is_pinned=None, is_hidden=None, is_sticker=None, is_fb_sticker=None, media_pk=3081529250317343363, user_id=None, product_type=None, media_code=None)])"
      ]
     },
     "execution_count": 22,
     "metadata": {},
     "output_type": "execute_result"
    }
   ],
   "source": [
    "gwani_17 = cl.user_info_by_username('gwani_17')\n",
    "hashtag = cl.hashtag_info('dhbastards')\n",
    "\n",
    "cl.photo_upload_to_story(\n",
    "    path='data/0000.jpg',\n",
    "    caption=\"Credits @gwani\",\n",
    "    mentions=[StoryMention(user=gwani_17, x=0.49892962, y=0.703125, width=0.02, height=0.125)],\n",
    "    links=[StoryLink(webUri='https://kimtaekgwan.oopy.io', x=0.3, y=0.7, width=1,z=0.2)],\n",
    "    hashtags=[StoryHashtag(hashtag=hashtag, x=0.23, y=0.32, width=0.5, height=0.22 )],\n",
    "    medias=[StoryMedia(media_pk=media_pk, x=0, y=0, width=0.02, height=0.02)])"
   ]
  },
  {
   "cell_type": "code",
   "execution_count": 17,
   "metadata": {},
   "outputs": [
    {
     "data": {
      "text/plain": [
       "'1707336878'"
      ]
     },
     "execution_count": 17,
     "metadata": {},
     "output_type": "execute_result"
    }
   ],
   "source": [
    "if api.login():\n",
    "    # 게시물 ID 추출\n",
    "    media_id = api.media_id_from_url(media_url)\n",
    "\n",
    "    # 게시물 정보 가져오기\n",
    "    media_info = api.media_info(media_id)\n",
    "\n",
    "    # 스토리에 게시물 추가\n",
    "    api.share_media(media_id, media_type='photo')"
   ]
  },
  {
   "cell_type": "code",
   "execution_count": 19,
   "metadata": {},
   "outputs": [],
   "source": [
    "# user = insta.client.user_info_by_username('taemin_25')\n",
    "# insta.client.user_stories(user_id = int(user.pk))"
   ]
  },
  {
   "cell_type": "code",
   "execution_count": 21,
   "metadata": {},
   "outputs": [
    {
     "data": {
      "text/plain": [
       "True"
      ]
     },
     "execution_count": 21,
     "metadata": {},
     "output_type": "execute_result"
    }
   ],
   "source": [
    "from instagrapi import Client\n",
    "\n",
    "cl = Client()\n",
    "cl.login(os.getenv('META_ACCOUNT_USERNAME'), os.getenv('META_ACCOUNT_PASSWORD'))\n",
    "\n",
    "# user_id = cl.user_id_from_username(\"adw0rd\")\n",
    "# medias = cl.user_medias(user_id, 20)"
   ]
  },
  {
   "cell_type": "code",
   "execution_count": 16,
   "metadata": {},
   "outputs": [],
   "source": [
    "user_id = cl.user_id_from_username(\"taemin_25\")\n",
    "medias = cl.user_medias(user_id)"
   ]
  },
  {
   "cell_type": "code",
   "execution_count": 17,
   "metadata": {},
   "outputs": [
    {
     "data": {
      "text/plain": [
       "[Media(pk='3040053122377816455', id='3040053122377816455_1707336878', code='CowcDU5pZmH', taken_at=datetime.datetime(2023, 2, 17, 8, 29, 54, tzinfo=datetime.timezone.utc), media_type=8, image_versions2={}, product_type='', thumbnail_url=None, location=None, user=UserShort(pk='1707336878', username='taemin_25', full_name='', profile_pic_url=None, profile_pic_url_hd=None, is_private=None, stories=[]), comment_count=46, comments_disabled=False, commenting_disabled_for_viewer=False, like_count=125, play_count=None, has_liked=None, caption_text='자이로드롭 다섯번 타니까 힘들다', accessibility_caption=None, usertags=[Usertag(user=UserShort(pk='2525039193', username='si_hon_ey', full_name='', profile_pic_url=None, profile_pic_url_hd=None, is_private=None, stories=[]), x=0.5128824477, y=0.8317230274), Usertag(user=UserShort(pk='30188101084', username='hyeseong_x', full_name='', profile_pic_url=None, profile_pic_url_hd=None, is_private=None, stories=[]), x=0.5619967794, y=0.6988727858), Usertag(user=UserShort(pk='31601068056', username='urururu_k', full_name='', profile_pic_url=None, profile_pic_url_hd=None, is_private=None, stories=[]), x=0.6328502415, y=0.5660225443)], sponsor_tags=[], video_url=None, view_count=0, video_duration=0.0, title='', resources=[Resource(pk='3040053117210420963', video_url=None, thumbnail_url=HttpUrl('https://scontent-hkg4-1.cdninstagram.com/v/t51.2885-15/331107708_510499667682978_7460294599108573876_n.jpg?stp=dst-jpg_e35_p1080x1080&_nc_ht=scontent-hkg4-1.cdninstagram.com&_nc_cat=106&_nc_ohc=9bDOib7nyhEAX-A99Pd&edm=APU89FABAAAA&ccb=7-5&oh=00_AfBMHypksknlqdHWokqjEWSQfEXCnfDcCVenYUeJxJ4xJQ&oe=643EA4FF&_nc_sid=86f79a', ), media_type=1), Resource(pk='3040053117235674131', video_url=None, thumbnail_url=HttpUrl('https://scontent-hkg4-1.cdninstagram.com/v/t51.2885-15/331619948_1411933089603360_2982508639103033702_n.jpg?stp=dst-jpg_e35_p1080x1080&_nc_ht=scontent-hkg4-1.cdninstagram.com&_nc_cat=100&_nc_ohc=5Y0se8urXowAX8YBTxm&edm=APU89FABAAAA&ccb=7-5&oh=00_AfC9Dzs6i5D3wohtC2fCmXu9TINU0_jk3MuuFV49XZQL1g&oe=643F6D97&_nc_sid=86f79a', ), media_type=1), Resource(pk='3040053117135064607', video_url=None, thumbnail_url=HttpUrl('https://scontent-hkg4-2.cdninstagram.com/v/t51.2885-15/331113091_138516669105095_2549130138693391872_n.jpg?stp=dst-jpg_e35_p1080x1080&_nc_ht=scontent-hkg4-2.cdninstagram.com&_nc_cat=111&_nc_ohc=GMfN66DIJ2gAX-vbvhX&edm=APU89FABAAAA&ccb=7-5&oh=00_AfCOvgMGG_B9HDB8mYlcJVWnpZwbQ8SzbyDUEQGHvDCw8A&oe=643E9E3A&_nc_sid=86f79a', ), media_type=1), Resource(pk='3040053117227165439', video_url=None, thumbnail_url=HttpUrl('https://scontent-hkg4-2.cdninstagram.com/v/t51.2885-15/331001090_1389200448507669_2189031152353694838_n.jpg?stp=dst-jpg_e35_p1080x1080&_nc_ht=scontent-hkg4-2.cdninstagram.com&_nc_cat=109&_nc_ohc=o7NNoILYOlgAX-aprL6&edm=APU89FABAAAA&ccb=7-5&oh=00_AfCJ5JuS4gqA_nU8wWodXFQffn4sFWH7d0sQAskxJHlRcw&oe=643ECC6A&_nc_sid=86f79a', ), media_type=1), Resource(pk='3040053117218757738', video_url=None, thumbnail_url=HttpUrl('https://scontent-hkg4-2.cdninstagram.com/v/t51.2885-15/331254874_737352134599739_6222214184611251847_n.jpg?stp=dst-jpg_e35_p1080x1080&_nc_ht=scontent-hkg4-2.cdninstagram.com&_nc_cat=111&_nc_ohc=1fGmk9SN9AUAX8w12NF&edm=APU89FABAAAA&ccb=7-5&oh=00_AfCyA5m_KDwTFtYPL1MvFHUGAxvxNUhXd29KvBZ4qxO5aQ&oe=643F1E14&_nc_sid=86f79a', ), media_type=1)], clips_metadata={}),\n",
       " Media(pk='2901733964223258669', id='2901733964223258669_1707336878', code='ChFB6qaNqAt', taken_at=datetime.datetime(2022, 8, 10, 12, 14, 26, tzinfo=datetime.timezone.utc), media_type=8, image_versions2={}, product_type='', thumbnail_url=None, location=None, user=UserShort(pk='1707336878', username='taemin_25', full_name='', profile_pic_url=None, profile_pic_url_hd=None, is_private=None, stories=[]), comment_count=21, comments_disabled=False, commenting_disabled_for_viewer=False, like_count=141, play_count=None, has_liked=None, caption_text='이제 나랑 한국 여행 할사람?', accessibility_caption=None, usertags=[], sponsor_tags=[], video_url=None, view_count=0, video_duration=0.0, title='', resources=[Resource(pk='2901733958820894348', video_url=None, thumbnail_url=HttpUrl('https://scontent-hkg4-2.cdninstagram.com/v/t51.2885-15/298511013_164835766118577_85254443914433305_n.jpg?stp=dst-jpg_e35_p1080x1080&_nc_ht=scontent-hkg4-2.cdninstagram.com&_nc_cat=109&_nc_ohc=QY2ZhoQidxYAX-mBYQ-&edm=APU89FABAAAA&ccb=7-5&oh=00_AfCvCtuUZ7gDLnPPRwZRMLGtGmlBc5Mh4HUPs11MzW56Ow&oe=643FF038&_nc_sid=86f79a', ), media_type=1), Resource(pk='2901733958963639239', video_url=None, thumbnail_url=HttpUrl('https://scontent-hkg4-1.cdninstagram.com/v/t51.2885-15/298195215_748437839714004_8542379032254978434_n.jpg?stp=dst-jpg_e35_p1080x1080&_nc_ht=scontent-hkg4-1.cdninstagram.com&_nc_cat=100&_nc_ohc=iBgk-G7MO74AX9LP0Vp&edm=APU89FABAAAA&ccb=7-5&oh=00_AfCfCVosq8JPpVA1aT38C2nTxHyVg039vMD1sSaOvLzaWg&oe=643F0950&_nc_sid=86f79a', ), media_type=1), Resource(pk='2901733959139636306', video_url=None, thumbnail_url=HttpUrl('https://scontent-hkg4-1.cdninstagram.com/v/t51.2885-15/298631545_533516271792932_8539848716408023343_n.jpg?stp=dst-jpg_e35_p1080x1080&_nc_ht=scontent-hkg4-1.cdninstagram.com&_nc_cat=108&_nc_ohc=7Z8sa-pI7mEAX8Dras8&edm=APU89FABAAAA&ccb=7-5&oh=00_AfCGmeXvfLz6jtN9vzcuuji8iTH5jtlII-FKwJJ41B0Osw&oe=643F97CF&_nc_sid=86f79a', ), media_type=1), Resource(pk='2901733958837830642', video_url=None, thumbnail_url=HttpUrl('https://scontent-hkg4-1.cdninstagram.com/v/t51.2885-15/298184208_732201814539362_2846245662530911039_n.jpg?stp=dst-jpg_e35_p1080x1080&_nc_ht=scontent-hkg4-1.cdninstagram.com&_nc_cat=102&_nc_ohc=MSTnSSi1MuwAX-a4MpK&edm=APU89FABAAAA&ccb=7-5&oh=00_AfCa7HeqrSejtbzesYWo6eX3HPtfmhEKsk9dx9ImFBo7rQ&oe=643EC013&_nc_sid=86f79a', ), media_type=1), Resource(pk='2901733958846019376', video_url=None, thumbnail_url=HttpUrl('https://scontent-hkg4-2.cdninstagram.com/v/t51.2885-15/298437438_754170725860000_2081499038700218796_n.jpg?stp=dst-jpg_e35_p1080x1080&_nc_ht=scontent-hkg4-2.cdninstagram.com&_nc_cat=104&_nc_ohc=VCeNOzOZMXUAX8kFRE-&edm=APU89FABAAAA&ccb=7-5&oh=00_AfB2fzkFARxWe2DUkoth_e0UGNpXrAswqO06uijl8suNkw&oe=643F9BF4&_nc_sid=86f79a', ), media_type=1), Resource(pk='2901733958787493684', video_url=None, thumbnail_url=HttpUrl('https://scontent-hkg4-1.cdninstagram.com/v/t51.2885-15/298258977_582249776942178_3742977765332155676_n.jpg?stp=dst-jpg_e35_p1080x1080&_nc_ht=scontent-hkg4-1.cdninstagram.com&_nc_cat=106&_nc_ohc=KCfZXnO9OdkAX91SgPa&edm=APU89FABAAAA&ccb=7-5&oh=00_AfA2zL4O3vX1SYtP45jMIVlhY8dU8EgWyFl69KUKcW4HkQ&oe=643F3404&_nc_sid=86f79a', ), media_type=1), Resource(pk='2901733959014011763', video_url=None, thumbnail_url=HttpUrl('https://scontent-hkg4-1.cdninstagram.com/v/t51.2885-15/298599609_628238668522363_384384928515004663_n.jpg?stp=dst-jpg_e35_p1080x1080&_nc_ht=scontent-hkg4-1.cdninstagram.com&_nc_cat=107&_nc_ohc=r054SZxWO7kAX_Acs8R&edm=APU89FABAAAA&ccb=7-5&oh=00_AfCFRfNFLPEFSbNtifEci05cUJ0Dg6U0R7xw9zY8M1wO-A&oe=643F3129&_nc_sid=86f79a', ), media_type=1), Resource(pk='2901733958913138859', video_url=None, thumbnail_url=HttpUrl('https://scontent-hkg4-1.cdninstagram.com/v/t51.2885-15/298332652_3356243447936749_5605920639307939090_n.jpg?stp=dst-jpg_e35_p1080x1080&_nc_ht=scontent-hkg4-1.cdninstagram.com&_nc_cat=101&_nc_ohc=NRkNIXqtCxAAX-44E38&edm=APU89FABAAAA&ccb=7-5&oh=00_AfDv-suluF0x64ECMFDH06Q3lMm4KsEh6MEGUEN8ZfJdww&oe=64402208&_nc_sid=86f79a', ), media_type=1), Resource(pk='2901733958787452754', video_url=None, thumbnail_url=HttpUrl('https://scontent-hkg4-2.cdninstagram.com/v/t51.2885-15/298516092_781006776677685_1682774333275358113_n.jpg?stp=dst-jpg_e35_p1080x1080&_nc_ht=scontent-hkg4-2.cdninstagram.com&_nc_cat=109&_nc_ohc=81jXzeznbPoAX9MpwlR&edm=APU89FABAAAA&ccb=7-5&oh=00_AfD0JVHAlgliEvUSu-ixNJS9H3IVOOMc4DFPWZXVzAsX_A&oe=643EEC12&_nc_sid=86f79a', ), media_type=1), Resource(pk='2901733958787475284', video_url=None, thumbnail_url=HttpUrl('https://scontent-hkg4-1.cdninstagram.com/v/t51.2885-15/298266649_431760425683827_4873566704650435939_n.jpg?stp=dst-jpg_e35_p1080x1080&_nc_ht=scontent-hkg4-1.cdninstagram.com&_nc_cat=103&_nc_ohc=JPjtWASZRuoAX_Eni3J&edm=APU89FABAAAA&ccb=7-5&oh=00_AfAo3vPu63bMYEcQ0g8osMbUS3rhAF6BcZe-mYM7vV7xIA&oe=643FEDD0&_nc_sid=86f79a', ), media_type=1)], clips_metadata={}),\n",
       " Media(pk='2901130428930926917', id='2901130428930926917_1707336878', code='ChC4sEXgSlF', taken_at=datetime.datetime(2022, 8, 9, 16, 26, 8, tzinfo=datetime.timezone.utc), media_type=2, image_versions2={}, product_type='feed', thumbnail_url=HttpUrl('https://scontent-hkg4-1.cdninstagram.com/v/t51.2885-15/297981691_623887359150972_3784929805688774858_n.jpg?stp=dst-jpg_e15&_nc_ht=scontent-hkg4-1.cdninstagram.com&_nc_cat=100&_nc_ohc=2TkyQvi50CwAX-d2P1B&edm=APU89FABAAAA&ccb=7-5&oh=00_AfBoOgoC2ZFKrCjt_lP0Zyg5TFyN-VLeMgC25QHoSjcREQ&oe=643C4CCD&_nc_sid=86f79a', ), location=None, user=UserShort(pk='1707336878', username='taemin_25', full_name='', profile_pic_url=None, profile_pic_url_hd=None, is_private=None, stories=[]), comment_count=27, comments_disabled=False, commenting_disabled_for_viewer=False, like_count=116, play_count=None, has_liked=None, caption_text='모자에 동전 넣어달라고!!!', accessibility_caption=None, usertags=[Usertag(user=UserShort(pk='11522939656', username='t_y_3487', full_name='', profile_pic_url=None, profile_pic_url_hd=None, is_private=None, stories=[]), x=0.0, y=0.0)], sponsor_tags=[], video_url=HttpUrl('https://scontent-hkg4-2.cdninstagram.com/v/t50.2886-16/10000000_1755038624837135_7351215712496158552_n.mp4?efg=eyJ2ZW5jb2RlX3RhZyI6InZ0c192b2RfdXJsZ2VuLjcyMC5jbGlwcy5iYXNlbGluZSIsInFlX2dyb3VwcyI6IltcImlnX3dlYl9kZWxpdmVyeV92dHNfb3RmXCJdIn0&_nc_ht=scontent-hkg4-2.cdninstagram.com&_nc_cat=111&_nc_ohc=l25udOOQiH8AX-q5UdY&edm=APU89FABAAAA&vs=546703820585229_3401642764&_nc_vs=HBksFQAYJEdJQ1dtQUFQN3N6Rk1qd0dBRmlIbXZxOXd3Um1icV9FQUFBRhUAAsgBABUAGCRHREk5eHhHaGZ1YzZSQThDQU11aTR6VXZrejVwYnFfRUFBQUYVAgLIAQAoABgAGwAVAAAm%2FLCI2JG%2B1T8VAigCQzMsF0BWVU%2FfO2RaGBJkYXNoX2Jhc2VsaW5lXzFfdjERAHX%2BBwA%3D&ccb=7-5&oh=00_AfAyLU4xb5micC3pCJrrQXGmMp9ItDWdeHmLXe60Vf5SMw&oe=643BCE1F&_nc_sid=86f79a', ), view_count=833, video_duration=0.0, title='', resources=[], clips_metadata={}),\n",
       " Media(pk='2895821730221502191', id='2895821730221502191_1707336878', code='CgwBoVata7v', taken_at=datetime.datetime(2022, 8, 2, 8, 27, 52, tzinfo=datetime.timezone.utc), media_type=8, image_versions2={}, product_type='', thumbnail_url=None, location=None, user=UserShort(pk='1707336878', username='taemin_25', full_name='', profile_pic_url=None, profile_pic_url_hd=None, is_private=None, stories=[]), comment_count=28, comments_disabled=False, commenting_disabled_for_viewer=False, like_count=156, play_count=None, has_liked=None, caption_text='요를레이히~', accessibility_caption=None, usertags=[], sponsor_tags=[], video_url=None, view_count=0, video_duration=0.0, title='', resources=[Resource(pk='2895821725976928376', video_url=None, thumbnail_url=HttpUrl('https://scontent-hkg4-1.cdninstagram.com/v/t51.2885-15/296682261_1009725973050206_18680528498178717_n.jpg?stp=dst-jpg_e35_p1080x1080&_nc_ht=scontent-hkg4-1.cdninstagram.com&_nc_cat=102&_nc_ohc=yRMHyypjPswAX8NajWu&edm=APU89FABAAAA&ccb=7-5&oh=00_AfCOsLpw8hUslDu_BK96XF1H3peKo9bR1YLRD8e-6Tz6cA&oe=643F61AA&_nc_sid=86f79a', ), media_type=1), Resource(pk='2895821725893025203', video_url=None, thumbnail_url=HttpUrl('https://scontent-hkg4-2.cdninstagram.com/v/t51.2885-15/296976158_172258925313676_8935914797333758517_n.jpg?stp=dst-jpg_e35_p1080x1080&_nc_ht=scontent-hkg4-2.cdninstagram.com&_nc_cat=104&_nc_ohc=MCMkeRbn6A0AX-AnvWe&edm=APU89FABAAAA&ccb=7-5&oh=00_AfBnvbS29Pfa6gOlqXTM1W5Dl8j5nNrWCx_wXJk0PlIwxw&oe=6440135C&_nc_sid=86f79a', ), media_type=1), Resource(pk='2895821725775502316', video_url=None, thumbnail_url=HttpUrl('https://scontent-hkg4-1.cdninstagram.com/v/t51.2885-15/297178128_147947687903993_4686160304069581492_n.jpg?stp=dst-jpg_e35_p1080x1080&_nc_ht=scontent-hkg4-1.cdninstagram.com&_nc_cat=105&_nc_ohc=st2T3u5VCbQAX89slvq&edm=APU89FABAAAA&ccb=7-5&oh=00_AfBq3xzKBX0WisX0j0yXQjPuzp2uZGrLCLYTefTpZ6NG9w&oe=643F2073&_nc_sid=86f79a', ), media_type=1), Resource(pk='2895821725909807589', video_url=None, thumbnail_url=HttpUrl('https://scontent-hkg4-1.cdninstagram.com/v/t51.2885-15/296668128_116063351178485_2506799979683427779_n.jpg?stp=dst-jpg_e35_p1080x1080&_nc_ht=scontent-hkg4-1.cdninstagram.com&_nc_cat=105&_nc_ohc=lsrtU8tECO0AX_tcEgD&edm=APU89FABAAAA&ccb=7-5&oh=00_AfAst28HGNj4ymY76NbacnM_uibCDegxYAG9qFpCd751Jw&oe=643FB4F0&_nc_sid=86f79a', ), media_type=1), Resource(pk='2895821725775501134', video_url=None, thumbnail_url=HttpUrl('https://scontent-hkg4-1.cdninstagram.com/v/t51.2885-15/297082654_165293346043123_7058628270915771233_n.jpg?stp=dst-jpg_e35_p1080x1080&_nc_ht=scontent-hkg4-1.cdninstagram.com&_nc_cat=107&_nc_ohc=DEwZXlhcuUkAX_Qjz-5&edm=APU89FABAAAA&ccb=7-5&oh=00_AfD4JrUV0DNYTds8SmJwYMhuMvJRySyXB8aWnDv4i97kRA&oe=643F8C0F&_nc_sid=86f79a', ), media_type=1), Resource(pk='2895821725750422892', video_url=None, thumbnail_url=HttpUrl('https://scontent-hkg4-1.cdninstagram.com/v/t51.2885-15/296714881_409218201056922_6757263193113575679_n.jpg?stp=dst-jpg_e35_p1080x1080&_nc_ht=scontent-hkg4-1.cdninstagram.com&_nc_cat=106&_nc_ohc=PjagnDqZZ8cAX8OqB4g&edm=APU89FABAAAA&ccb=7-5&oh=00_AfACk_ilXnqDkOu4C5vQk0pn-WJsZ6YGN_SIDMy1Jxlauw&oe=643ECE60&_nc_sid=86f79a', ), media_type=1), Resource(pk='2895821725792212500', video_url=None, thumbnail_url=HttpUrl('https://scontent-hkg4-1.cdninstagram.com/v/t51.2885-15/297298731_384256983751148_3935236427592377935_n.jpg?stp=dst-jpg_e35_p1080x1080&_nc_ht=scontent-hkg4-1.cdninstagram.com&_nc_cat=108&_nc_ohc=e8KrqLpDm5MAX-lCzP_&edm=APU89FABAAAA&ccb=7-5&oh=00_AfDs4aHZW7Xu5DFXRaOlRBcn-ilYTxak2dAT1k3DOOLTbQ&oe=644043F5&_nc_sid=86f79a', ), media_type=1), Resource(pk='2895821725750458534', video_url=None, thumbnail_url=HttpUrl('https://scontent-hkg4-2.cdninstagram.com/v/t51.2885-15/297435257_634983767793887_8759233519234858509_n.jpg?stp=dst-jpg_e35_p1080x1080&_nc_ht=scontent-hkg4-2.cdninstagram.com&_nc_cat=111&_nc_ohc=CyOZFnvAvhcAX-TExKJ&edm=APU89FABAAAA&ccb=7-5&oh=00_AfDFq-k_5nBE61xFQsA4yegkGpR1M1mpsmpmF-zDFoBR7g&oe=643E9322&_nc_sid=86f79a', ), media_type=1), Resource(pk='2895821725750443779', video_url=None, thumbnail_url=HttpUrl('https://scontent-hkg4-1.cdninstagram.com/v/t51.2885-15/296591088_616572933111782_4033980137627259429_n.jpg?stp=dst-jpg_e35_p1080x1080&_nc_ht=scontent-hkg4-1.cdninstagram.com&_nc_cat=102&_nc_ohc=vQ1UCYqJNd4AX-SNfSq&edm=APU89FABAAAA&ccb=7-5&oh=00_AfAWQC1urViP5lHOTjPrN8Of51KY_djTi0qfNfX2a_J_dg&oe=643F5C54&_nc_sid=86f79a', ), media_type=1), Resource(pk='2895821726295579405', video_url=None, thumbnail_url=HttpUrl('https://scontent-hkg4-1.cdninstagram.com/v/t51.2885-15/297239609_172484605287902_252642609441064_n.jpg?stp=dst-jpg_e35_p1080x1080&_nc_ht=scontent-hkg4-1.cdninstagram.com&_nc_cat=102&_nc_ohc=ax3fffpvzKUAX-c_-7L&edm=APU89FABAAAA&ccb=7-5&oh=00_AfDNkimNqzAKmhMInFyLoT32weGp4_Pmfqu3eP5GRuWuFA&oe=643FDA01&_nc_sid=86f79a', ), media_type=1)], clips_metadata={}),\n",
       " Media(pk='2892270521715880165', id='2892270521715880165_1707336878', code='CgjaLcxNXDl', taken_at=datetime.datetime(2022, 7, 28, 10, 52, 15, tzinfo=datetime.timezone.utc), media_type=8, image_versions2={}, product_type='', thumbnail_url=None, location=None, user=UserShort(pk='1707336878', username='taemin_25', full_name='', profile_pic_url=None, profile_pic_url_hd=None, is_private=None, stories=[]), comment_count=39, comments_disabled=False, commenting_disabled_for_viewer=False, like_count=168, play_count=None, has_liked=None, caption_text='엪헬탑좋앜', accessibility_caption=None, usertags=[], sponsor_tags=[], video_url=None, view_count=0, video_duration=0.0, title='', resources=[Resource(pk='2892270516657573605', video_url=None, thumbnail_url=HttpUrl('https://scontent-hkg4-1.cdninstagram.com/v/t51.2885-15/296082818_413507820741266_3745705050804947693_n.jpg?stp=dst-jpg_e35_p1080x1080&_nc_ht=scontent-hkg4-1.cdninstagram.com&_nc_cat=102&_nc_ohc=IceIh_SJ9mgAX-Qj9Uz&edm=APU89FABAAAA&ccb=7-5&oh=00_AfBLzBkqtHOZAi3YF1-p9DUe5s2qe06nXbBRxo1FHBrYTQ&oe=6440241F&_nc_sid=86f79a', ), media_type=1), Resource(pk='2892270516749750956', video_url=None, thumbnail_url=HttpUrl('https://scontent-hkg4-1.cdninstagram.com/v/t51.2885-15/296099366_777207673429836_924366349609530254_n.jpg?stp=dst-jpg_e35_p1080x1080&_nc_ht=scontent-hkg4-1.cdninstagram.com&_nc_cat=100&_nc_ohc=CcTtLk3aJ40AX8bL698&edm=APU89FABAAAA&ccb=7-5&oh=00_AfBq9jqerwKoTYfSo_dQByRm-ZfrCNbYEcqhITkKrOS4MQ&oe=644008CC&_nc_sid=86f79a', ), media_type=1), Resource(pk='2892270516632300419', video_url=None, thumbnail_url=HttpUrl('https://scontent-hkg4-2.cdninstagram.com/v/t51.2885-15/295861530_790880902084438_1381280366170094004_n.jpg?stp=dst-jpg_e35_p1080x1080&_nc_ht=scontent-hkg4-2.cdninstagram.com&_nc_cat=110&_nc_ohc=hsdq-VquPq4AX_Rkoh2&edm=APU89FABAAAA&ccb=7-5&oh=00_AfAK_9k9-EEgKPGcr6EvCFEHzori3tTfXQkWL5xA85Ta2A&oe=64403418&_nc_sid=86f79a', ), media_type=1), Resource(pk='2892270516632339100', video_url=None, thumbnail_url=HttpUrl('https://scontent-hkg4-1.cdninstagram.com/v/t51.2885-15/295988257_1353651461828101_2297053095049754317_n.jpg?stp=dst-jpg_e35_p1080x1080&_nc_ht=scontent-hkg4-1.cdninstagram.com&_nc_cat=101&_nc_ohc=J-1zArx8n68AX9vn4qY&edm=APU89FABAAAA&ccb=7-5&oh=00_AfDwZY9EBNTloVLIjbq52IVoQQBn2QzS6ACV0sAlhlnjeQ&oe=643FC5C4&_nc_sid=86f79a', ), media_type=1), Resource(pk='2892270516456146191', video_url=None, thumbnail_url=HttpUrl('https://scontent-hkg4-1.cdninstagram.com/v/t51.2885-15/295945393_484490796820543_2972581348992406693_n.jpg?stp=dst-jpg_e35_p1080x1080&_nc_ht=scontent-hkg4-1.cdninstagram.com&_nc_cat=107&_nc_ohc=_Ujlr2ihya8AX9aPEnp&edm=APU89FABAAAA&ccb=7-5&oh=00_AfDYM6a7JT-0a4Y_IAPrNSbgolkHDfmM-zdbrg0T4_Id_Q&oe=643EB084&_nc_sid=86f79a', ), media_type=1), Resource(pk='2892270516464688734', video_url=None, thumbnail_url=HttpUrl('https://scontent-hkg4-1.cdninstagram.com/v/t51.2885-15/296358016_619504886093402_2227052509532171394_n.jpg?stp=dst-jpg_e35_p1080x1080&_nc_ht=scontent-hkg4-1.cdninstagram.com&_nc_cat=102&_nc_ohc=KWuUXlJGD3QAX8Pwogu&edm=APU89FABAAAA&ccb=7-5&oh=00_AfBgBDxO7nctKGfNQXHrPEX40NjcU6d1m5VMiJCSgfpGVg&oe=643F59A5&_nc_sid=86f79a', ), media_type=1), Resource(pk='2892270516456194242', video_url=None, thumbnail_url=HttpUrl('https://scontent-hkg4-1.cdninstagram.com/v/t51.2885-15/295857178_172951361904973_6259445740722517727_n.jpg?stp=dst-jpg_e35_p1080x1080&_nc_ht=scontent-hkg4-1.cdninstagram.com&_nc_cat=101&_nc_ohc=Er8uscIDL2cAX-OJKSJ&edm=APU89FABAAAA&ccb=7-5&oh=00_AfCuYETVtoArqKIbTRXAXRGzZ5SE2ANRwOfODGUkyEHz_w&oe=643E7D3D&_nc_sid=86f79a', ), media_type=1), Resource(pk='2892270516623998408', video_url=None, thumbnail_url=HttpUrl('https://scontent-hkg4-1.cdninstagram.com/v/t51.2885-15/295846563_745426276569288_3816880797317864017_n.jpg?stp=dst-jpg_e35_p1080x1080&_nc_ht=scontent-hkg4-1.cdninstagram.com&_nc_cat=100&_nc_ohc=GPwN7oSLOHQAX9Q9wI9&edm=APU89FABAAAA&ccb=7-5&oh=00_AfA6WCDDxnfNTiljuvBs5CNUsWqFwXie2rTASQkDI2S2FA&oe=643FBD3F&_nc_sid=86f79a', ), media_type=1), Resource(pk='2892270516498139253', video_url=None, thumbnail_url=HttpUrl('https://scontent-hkg4-1.cdninstagram.com/v/t51.2885-15/296021761_1890594341131721_4814448235465233919_n.jpg?stp=dst-jpg_e35_p1080x1080&_nc_ht=scontent-hkg4-1.cdninstagram.com&_nc_cat=105&_nc_ohc=2V1cSsw7KrwAX9PhYnP&edm=APU89FABAAAA&ccb=7-5&oh=00_AfAj611r24TI8zjJnx9BAV3fXCtGkNnZIk1xOFEaDHVocw&oe=643FA2A9&_nc_sid=86f79a', ), media_type=1), Resource(pk='2892259304532952662', video_url=HttpUrl('https://scontent-hkg4-1.cdninstagram.com/v/t50.2886-16/296539216_610427750649668_958485616321097087_n.mp4?efg=eyJ2ZW5jb2RlX3RhZyI6InZ0c192b2RfdXJsZ2VuLjcyMC5jYXJvdXNlbF9pdGVtLmJhc2VsaW5lIiwicWVfZ3JvdXBzIjoiW1wiaWdfd2ViX2RlbGl2ZXJ5X3Z0c19vdGZcIl0ifQ&_nc_ht=scontent-hkg4-1.cdninstagram.com&_nc_cat=108&_nc_ohc=tDOzzXbEIDsAX9PjPWi&edm=APU89FABAAAA&vs=986918415416428_530345734&_nc_vs=HBksFQAYJEdGRFVyQkZFRHoxSkxpc0NBSC10SS11V09VME5ia1lMQUFBRhUAAsgBABUAGCRHSmlabkJGc3Jzcmdwd01GQUI1TWktYlBLdGw1YmtZTEFBQUYVAgLIAQAoABgAGwAVAAAm6MqD7IXHg0EVAigCQzMsF0BKYgxJul41GBJkYXNoX2Jhc2VsaW5lXzFfdjERAHXuBwA%3D&ccb=7-5&oh=00_AfBIJfjtCvelNP0OtT_tfb9fpdyUlrwUkOXBXWC0KTOsMg&oe=643BF507&_nc_sid=86f79a', ), thumbnail_url=HttpUrl('https://scontent-hkg4-1.cdninstagram.com/v/t51.2885-15/295963738_2971095276523457_8896348019983634666_n.jpg?stp=dst-jpg_e15&_nc_ht=scontent-hkg4-1.cdninstagram.com&_nc_cat=105&_nc_ohc=ofzthhJqCncAX_EaVkk&edm=APU89FABAAAA&ccb=7-5&oh=00_AfDUZnLeI_RRsMGHrr-y00IlE_kKpdTLxX_KfNHpKiZ9YA&oe=643BE6BA&_nc_sid=86f79a', ), media_type=2)], clips_metadata={}),\n",
       " Media(pk='2886459070346561433', id='2886459070346561433_1707336878', code='CgOwzs6tgeZ', taken_at=datetime.datetime(2022, 7, 20, 10, 25, 56, tzinfo=datetime.timezone.utc), media_type=8, image_versions2={}, product_type='', thumbnail_url=None, location=None, user=UserShort(pk='1707336878', username='taemin_25', full_name='', profile_pic_url=None, profile_pic_url_hd=None, is_private=None, stories=[]), comment_count=45, comments_disabled=False, commenting_disabled_for_viewer=False, like_count=120, play_count=None, has_liked=None, caption_text='Hola~ 밖에 몰라', accessibility_caption=None, usertags=[], sponsor_tags=[], video_url=None, view_count=0, video_duration=0.0, title='', resources=[Resource(pk='2886459065271321111', video_url=None, thumbnail_url=HttpUrl('https://scontent-hkg4-2.cdninstagram.com/v/t51.2885-15/294389969_576684064058987_295177529034350670_n.jpg?stp=dst-jpg_e35_p1080x1080&_nc_ht=scontent-hkg4-2.cdninstagram.com&_nc_cat=111&_nc_ohc=E1vUAJ3VxPUAX_yqCMS&edm=APU89FABAAAA&ccb=7-5&oh=00_AfAVfpTlXq4qDD0BC91Lnhu53rALB5WHOG2AKnH9CJgSQg&oe=643FEEFD&_nc_sid=86f79a', ), media_type=1), Resource(pk='2886459065237785935', video_url=None, thumbnail_url=HttpUrl('https://scontent-hkg4-2.cdninstagram.com/v/t51.2885-15/294454988_413403764062895_6140485552572545533_n.jpg?stp=dst-jpg_e35_p1080x1080&_nc_ht=scontent-hkg4-2.cdninstagram.com&_nc_cat=111&_nc_ohc=d0HannHgEUcAX-y3EAk&edm=APU89FABAAAA&ccb=7-5&oh=00_AfA1nVjgzM1VPFxDe-dPwc7JS6IQfbn_EYljM0yv6ukKqA&oe=643F4736&_nc_sid=86f79a', ), media_type=1), Resource(pk='2886459065229571364', video_url=None, thumbnail_url=HttpUrl('https://scontent-hkg4-2.cdninstagram.com/v/t51.2885-15/294270472_977230746305938_6324916105711355774_n.jpg?stp=dst-jpg_e35_p1080x1080&_nc_ht=scontent-hkg4-2.cdninstagram.com&_nc_cat=110&_nc_ohc=FHeUh_FECm8AX8djZcu&edm=APU89FABAAAA&ccb=7-5&oh=00_AfCmgmgt3R77iEWrkaJkoUzzgvoCa8qfKjf6yoZsJVgTsw&oe=643F6F93&_nc_sid=86f79a', ), media_type=1), Resource(pk='2886459065388905429', video_url=None, thumbnail_url=HttpUrl('https://scontent-hkg4-2.cdninstagram.com/v/t51.2885-15/294501045_418137713588471_547777225791581735_n.jpg?stp=dst-jpg_e35_p1080x1080&_nc_ht=scontent-hkg4-2.cdninstagram.com&_nc_cat=111&_nc_ohc=oA_GWDYeGP4AX_5KYF2&edm=APU89FABAAAA&ccb=7-5&oh=00_AfD35VCkpLtSzDtS3izYvEszaZXzhAjaUAJF_1m4UrRudw&oe=643F754F&_nc_sid=86f79a', ), media_type=1), Resource(pk='2886459065229502699', video_url=None, thumbnail_url=HttpUrl('https://scontent-hkg4-2.cdninstagram.com/v/t51.2885-15/294257403_567760051481351_4310138782893723866_n.jpg?stp=dst-jpg_e35_p1080x1080&_nc_ht=scontent-hkg4-2.cdninstagram.com&_nc_cat=111&_nc_ohc=4q2Z3wPyyXoAX_p5Pkv&edm=APU89FABAAAA&ccb=7-5&oh=00_AfCx8vODGph3-e3GdT9zATu9VjTLb819EHHHQQKs06tmSg&oe=643F1BE9&_nc_sid=86f79a', ), media_type=1), Resource(pk='2886459065405731731', video_url=None, thumbnail_url=HttpUrl('https://scontent-hkg4-2.cdninstagram.com/v/t51.2885-15/294277092_1041735899881480_6369826541678570897_n.jpg?stp=dst-jpg_e35_p1080x1080&_nc_ht=scontent-hkg4-2.cdninstagram.com&_nc_cat=104&_nc_ohc=-UUPVAd9UocAX-5zJC7&edm=APU89FABAAAA&ccb=7-5&oh=00_AfAwyWLUzoZbmi-mxUxZVHnioC_CATUb-qBm1vHkWDrqag&oe=643F964D&_nc_sid=86f79a', ), media_type=1), Resource(pk='2886459065380421329', video_url=None, thumbnail_url=HttpUrl('https://scontent-hkg4-2.cdninstagram.com/v/t51.2885-15/294280103_465476505414232_8770912915514191511_n.jpg?stp=dst-jpg_e35_p1080x1080&_nc_ht=scontent-hkg4-2.cdninstagram.com&_nc_cat=104&_nc_ohc=NqaWTt2kI-AAX9knTlS&edm=APU89FABAAAA&ccb=7-5&oh=00_AfDJfJzVc1Bj2tmMuEzr91Z2dLyKsOXiQeuu8eLXHZWI-A&oe=64404030&_nc_sid=86f79a', ), media_type=1), Resource(pk='2886459065271429481', video_url=None, thumbnail_url=HttpUrl('https://scontent-hkg4-2.cdninstagram.com/v/t51.2885-15/294199806_742528076972277_3159402361144830143_n.jpg?stp=dst-jpg_e35_p1080x1080&_nc_ht=scontent-hkg4-2.cdninstagram.com&_nc_cat=109&_nc_ohc=RYBLbk7U95wAX-pIFZe&edm=APU89FABAAAA&ccb=7-5&oh=00_AfCmkWrqaEGmVE0PCdjQXPPBdYfSVZTXttwdPEzNVQRVWg&oe=643FB21A&_nc_sid=86f79a', ), media_type=1), Resource(pk='2886459065388884497', video_url=None, thumbnail_url=HttpUrl('https://scontent-hkg4-2.cdninstagram.com/v/t51.2885-15/294569402_571020438029518_6482536947246580864_n.jpg?stp=dst-jpg_e35_p1080x1080&_nc_ht=scontent-hkg4-2.cdninstagram.com&_nc_cat=110&_nc_ohc=QYHnuwKnPmAAX-wwalC&edm=APU89FABAAAA&ccb=7-5&oh=00_AfD0D0qAisETevg6oTxKb6wQ6GEMJuBrmkXKa_4e_agtsQ&oe=643EDEF6&_nc_sid=86f79a', ), media_type=1), Resource(pk='2886459065246185791', video_url=None, thumbnail_url=HttpUrl('https://scontent-hkg4-1.cdninstagram.com/v/t51.2885-15/294399032_2878605219110523_8062381083291502989_n.jpg?stp=dst-jpg_e35_p1080x1080&_nc_ht=scontent-hkg4-1.cdninstagram.com&_nc_cat=103&_nc_ohc=TCRp2hFRl6wAX9XPzsH&edm=APU89FABAAAA&ccb=7-5&oh=00_AfCgvbA94UiT_1y37WU__jBb4oxvqz_McFtLYUeo6lc_rQ&oe=643F4CAD&_nc_sid=86f79a', ), media_type=1)], clips_metadata={}),\n",
       " Media(pk='2881340866611729432', id='2881340866611729432_1707336878', code='Cf8lECPNVQY', taken_at=datetime.datetime(2022, 7, 13, 8, 56, 59, tzinfo=datetime.timezone.utc), media_type=8, image_versions2={}, product_type='', thumbnail_url=None, location=None, user=UserShort(pk='1707336878', username='taemin_25', full_name='', profile_pic_url=None, profile_pic_url_hd=None, is_private=None, stories=[]), comment_count=46, comments_disabled=False, commenting_disabled_for_viewer=False, like_count=134, play_count=None, has_liked=None, caption_text='Nächster halt München Hauptbahnhof', accessibility_caption=None, usertags=[], sponsor_tags=[], video_url=None, view_count=0, video_duration=0.0, title='', resources=[Resource(pk='2881340860378993317', video_url=None, thumbnail_url=HttpUrl('https://scontent-hkg4-1.cdninstagram.com/v/t51.2885-15/292815301_763045541402271_7146938654759989354_n.jpg?stp=dst-jpg_e35_p1080x1080&_nc_ht=scontent-hkg4-1.cdninstagram.com&_nc_cat=103&_nc_ohc=WfbVK4ee7DIAX-wfxle&edm=APU89FABAAAA&ccb=7-5&oh=00_AfDRTqi8a3vt74CJZmXh__yPSHvq5RRmg8girhs_x7cHBA&oe=643F31F8&_nc_sid=86f79a', ), media_type=1), Resource(pk='2881340860529994044', video_url=None, thumbnail_url=HttpUrl('https://scontent-hkg4-1.cdninstagram.com/v/t51.2885-15/293373512_3222467787995654_719526621148154987_n.jpg?stp=dst-jpg_e35_p1080x1080&_nc_ht=scontent-hkg4-1.cdninstagram.com&_nc_cat=102&_nc_ohc=46Cg-rLw66QAX_Uabhr&edm=APU89FABAAAA&ccb=7-5&oh=00_AfAH6Zdue-8CAZm1VSYUZWqsze88BHN0pbherUpKExVdZA&oe=643F142A&_nc_sid=86f79a', ), media_type=1), Resource(pk='2881340860370619875', video_url=None, thumbnail_url=HttpUrl('https://scontent-hkg4-1.cdninstagram.com/v/t51.2885-15/293083304_784845836034530_2589559609441376798_n.jpg?stp=dst-jpg_e35_p1080x1080&_nc_ht=scontent-hkg4-1.cdninstagram.com&_nc_cat=102&_nc_ohc=tXFwFC9lFQMAX8Sq46V&edm=APU89FABAAAA&ccb=7-5&oh=00_AfBnXQgiQ3arphHlUkz6s09YeJKlwovx1I4JXTbtVVfTbg&oe=643FAE71&_nc_sid=86f79a', ), media_type=1), Resource(pk='2881340622910783933', video_url=HttpUrl('https://scontent-hkg4-2.cdninstagram.com/v/t50.2886-16/293303554_5234915046624724_1787455069436706020_n.mp4?efg=eyJ2ZW5jb2RlX3RhZyI6InZ0c192b2RfdXJsZ2VuLjcyMC5jYXJvdXNlbF9pdGVtLmJhc2VsaW5lIiwicWVfZ3JvdXBzIjoiW1wiaWdfd2ViX2RlbGl2ZXJ5X3Z0c19vdGZcIl0ifQ&_nc_ht=scontent-hkg4-2.cdninstagram.com&_nc_cat=104&_nc_ohc=Uo9q_jFhH5sAX9NusiO&edm=APU89FABAAAA&vs=5647767591922641_1418617117&_nc_vs=HBksFQAYJEdBSjFleEhVamNpaklKa1NBT1Q4dmxIcVVNNFlia1lMQUFBRhUAAsgBABUAGCRHTWotZlJFZ0s3NG84S01BQUE4QXFtclFycVlXYmtZTEFBQUYVAgLIAQAoABgAGwAVAAAm2LD85eWT2j8VAigCQzMsF0AuEOVgQYk3GBJkYXNoX2Jhc2VsaW5lXzFfdjERAHXuBwA%3D&ccb=7-5&oh=00_AfC8gwawiPufcHPJCX5kMPrpOz1C6b3V50oW9BTtyVzsmw&oe=643C599F&_nc_sid=86f79a', ), thumbnail_url=HttpUrl('https://scontent-hkg4-2.cdninstagram.com/v/t51.2885-15/293388654_1478041719271367_4793311360538401194_n.jpg?stp=dst-jpg_e15&_nc_ht=scontent-hkg4-2.cdninstagram.com&_nc_cat=111&_nc_ohc=HQ3V10UFlE8AX8Pqh9B&edm=APU89FABAAAA&ccb=7-5&oh=00_AfAyEgZxz1jbzkbzko3xhwd7ZvfR2K7tSWKKOrRqB4qEVg&oe=643C26C4&_nc_sid=86f79a', ), media_type=2), Resource(pk='2881340860521766604', video_url=None, thumbnail_url=HttpUrl('https://scontent-hkg4-1.cdninstagram.com/v/t51.2885-15/293100024_606049450836776_3615020089365934471_n.jpg?stp=dst-jpg_e35_p1080x1080&_nc_ht=scontent-hkg4-1.cdninstagram.com&_nc_cat=108&_nc_ohc=OPag0GkeOIwAX-9R51b&edm=APU89FABAAAA&ccb=7-5&oh=00_AfC-mrzLQqvPWh_BERVQZpWSXiclmYLSdQXJNYdyovjeAA&oe=644028F9&_nc_sid=86f79a', ), media_type=1), Resource(pk='2881340860529913890', video_url=None, thumbnail_url=HttpUrl('https://scontent-hkg4-1.cdninstagram.com/v/t51.2885-15/293137565_767628164391973_8786714297563040401_n.jpg?stp=dst-jpg_e35_p1080x1080&_nc_ht=scontent-hkg4-1.cdninstagram.com&_nc_cat=101&_nc_ohc=ixBd7iyjWd8AX_Dpver&edm=APU89FABAAAA&ccb=7-5&oh=00_AfATQvRqrgJdC6dHgnvIsMSTs8zhez96vLcucvojBWCNKw&oe=643E6AEF&_nc_sid=86f79a', ), media_type=1), Resource(pk='2881340860555190116', video_url=None, thumbnail_url=HttpUrl('https://scontent-hkg4-1.cdninstagram.com/v/t51.2885-15/293639540_5784400088254381_1253408674614867692_n.jpg?stp=dst-jpg_e35_p1080x1080&_nc_ht=scontent-hkg4-1.cdninstagram.com&_nc_cat=101&_nc_ohc=rNOJCeWnHywAX8onuiL&edm=APU89FABAAAA&ccb=7-5&oh=00_AfDBpPeF6RG9lqSAXCznB0oF0oxD1IgcTz62NpMbb3adCw&oe=643FAC96&_nc_sid=86f79a', ), media_type=1), Resource(pk='2881340860421041962', video_url=None, thumbnail_url=HttpUrl('https://scontent-hkg4-1.cdninstagram.com/v/t51.2885-15/293182398_991156244910236_4011751730620160875_n.jpg?stp=dst-jpg_e35_p1080x1080&_nc_ht=scontent-hkg4-1.cdninstagram.com&_nc_cat=108&_nc_ohc=Wb16QB59xL4AX-hVkTH&edm=APU89FABAAAA&ccb=7-5&oh=00_AfAIR5i6TR0qHE_-LxF86m3OFT3gh3sK4Jz2e5hj7SKxHw&oe=644045EE&_nc_sid=86f79a', ), media_type=1), Resource(pk='2881340860387507663', video_url=None, thumbnail_url=HttpUrl('https://scontent-hkg4-1.cdninstagram.com/v/t51.2885-15/293169113_593237018903594_7301317750976761115_n.jpg?stp=dst-jpg_e35_p1080x1080&_nc_ht=scontent-hkg4-1.cdninstagram.com&_nc_cat=102&_nc_ohc=Hyc_jDaron4AX-tuZxb&edm=APU89FABAAAA&ccb=7-5&oh=00_AfDXxuDT7lAyA44b8vemVGev95r8OyDIeYtXYiqsM4zfug&oe=643FA935&_nc_sid=86f79a', ), media_type=1), Resource(pk='2881340860378934718', video_url=None, thumbnail_url=HttpUrl('https://scontent-hkg4-2.cdninstagram.com/v/t51.2885-15/293463948_132997362752637_5777793341614310302_n.jpg?stp=dst-jpg_e35_p1080x1080&_nc_ht=scontent-hkg4-2.cdninstagram.com&_nc_cat=109&_nc_ohc=e-whNugQcXQAX8NUmkg&edm=APU89FABAAAA&ccb=7-5&oh=00_AfAIkpsj1ip94L5GPuUmEg48lE9T5sWuXXSfwivC6mQGXA&oe=643ED819&_nc_sid=86f79a', ), media_type=1)], clips_metadata={}),\n",
       " Media(pk='2852995627303206420', id='2852995627303206420_1707336878', code='CeX4Gg_Jn4U', taken_at=datetime.datetime(2022, 6, 4, 6, 20, 3, tzinfo=datetime.timezone.utc), media_type=8, image_versions2={}, product_type='', thumbnail_url=None, location=None, user=UserShort(pk='1707336878', username='taemin_25', full_name='', profile_pic_url=None, profile_pic_url_hd=None, is_private=None, stories=[]), comment_count=46, comments_disabled=False, commenting_disabled_for_viewer=False, like_count=134, play_count=None, has_liked=None, caption_text='어..내가..언제..캠핑을..갔던가.?', accessibility_caption=None, usertags=[], sponsor_tags=[], video_url=None, view_count=0, video_duration=0.0, title='', resources=[Resource(pk='2852995620844063861', video_url=None, thumbnail_url=HttpUrl('https://scontent-hkg4-1.cdninstagram.com/v/t51.2885-15/285464541_985405802174257_5639672738153946850_n.jpg?stp=dst-jpg_e35_s1080x1080&_nc_ht=scontent-hkg4-1.cdninstagram.com&_nc_cat=101&_nc_ohc=rCprz2NyOjoAX91Kqew&edm=APU89FABAAAA&ccb=7-5&oh=00_AfDo9yEi491QRZhV766FakWnKebb7gV3fNIiNt7r_rPZzA&oe=643F37AD&_nc_sid=86f79a', ), media_type=1), Resource(pk='2852995620768461928', video_url=None, thumbnail_url=HttpUrl('https://scontent-hkg4-2.cdninstagram.com/v/t51.2885-15/285708357_521106586468600_7528803891195828904_n.jpg?stp=dst-jpg_e35_s1080x1080&_nc_ht=scontent-hkg4-2.cdninstagram.com&_nc_cat=104&_nc_ohc=kfZJMrGfMwEAX9ol8qc&edm=APU89FABAAAA&ccb=7-5&oh=00_AfBLyB7HDRuMsswGjp0wkRjqaCrTBI9RTuJwj44ozomrnA&oe=643EBDAA&_nc_sid=86f79a', ), media_type=1), Resource(pk='2852995620768366150', video_url=None, thumbnail_url=HttpUrl('https://scontent-hkg4-1.cdninstagram.com/v/t51.2885-15/285437263_2851119101847067_2153013292772919501_n.jpg?stp=dst-jpg_e35_s1080x1080&_nc_ht=scontent-hkg4-1.cdninstagram.com&_nc_cat=107&_nc_ohc=pSlB4L9nsMcAX9Flm3a&edm=APU89FABAAAA&ccb=7-5&oh=00_AfCN4YrZmNgk7zaPgq8P9xGylo2eLCi1avYNcvavbDkENw&oe=643F7417&_nc_sid=86f79a', ), media_type=1), Resource(pk='2852995620768495843', video_url=None, thumbnail_url=HttpUrl('https://scontent-hkg4-1.cdninstagram.com/v/t51.2885-15/285405978_732022527844898_7845614844007500858_n.jpg?stp=dst-jpg_e35_s1080x1080&_nc_ht=scontent-hkg4-1.cdninstagram.com&_nc_cat=102&_nc_ohc=rjv6cJNvbxAAX8Up6Pz&edm=APU89FABAAAA&ccb=7-5&oh=00_AfBgT7Cb0IjoNi8z9wl9jvhWD2AVODWG970xIBtrIFApiA&oe=643F1C45&_nc_sid=86f79a', ), media_type=1), Resource(pk='2852995620768470279', video_url=None, thumbnail_url=HttpUrl('https://scontent-hkg4-2.cdninstagram.com/v/t51.2885-15/285495590_1715441375472429_490749979781489782_n.jpg?stp=dst-jpg_e35_s1080x1080&_nc_ht=scontent-hkg4-2.cdninstagram.com&_nc_cat=109&_nc_ohc=u0-tWY7_E8YAX-9soXw&edm=APU89FABAAAA&ccb=7-5&oh=00_AfAlJQR_AVRZyUEhACcUTnn2YSKigFbViiRmZh0-gV1Gvg&oe=643FD53B&_nc_sid=86f79a', ), media_type=1), Resource(pk='2852995620768384336', video_url=None, thumbnail_url=HttpUrl('https://scontent-hkg4-1.cdninstagram.com/v/t51.2885-15/284726285_159390099956286_377067917835890503_n.jpg?stp=dst-jpg_e35_s1080x1080&_nc_ht=scontent-hkg4-1.cdninstagram.com&_nc_cat=106&_nc_ohc=CORmqjSKOVQAX8mnoWQ&edm=APU89FABAAAA&ccb=7-5&oh=00_AfCVrPn6mwKVgeamPBCLEMA0VSGTSRJTlCIyvB-QXXhIUg&oe=643EA9FF&_nc_sid=86f79a', ), media_type=1), Resource(pk='2852995620768320842', video_url=None, thumbnail_url=HttpUrl('https://scontent-hkg4-2.cdninstagram.com/v/t51.2885-15/285688010_569515397852973_8909205009994179709_n.jpg?stp=dst-jpg_e35_s1080x1080&_nc_ht=scontent-hkg4-2.cdninstagram.com&_nc_cat=109&_nc_ohc=8jUsq_QI4vUAX_OtZop&edm=APU89FABAAAA&ccb=7-5&oh=00_AfClL0SsRDA5J7F8EOQBCoSCRSjagKRCjXWhBCOdXD2M6g&oe=643E76D6&_nc_sid=86f79a', ), media_type=1)], clips_metadata={}),\n",
       " Media(pk='2822472744374318891', id='2822472744374318891_1707336878', code='CcrcAHEpzcr', taken_at=datetime.datetime(2022, 4, 23, 3, 36, 32, tzinfo=datetime.timezone.utc), media_type=8, image_versions2={}, product_type='', thumbnail_url=None, location=None, user=UserShort(pk='1707336878', username='taemin_25', full_name='', profile_pic_url=None, profile_pic_url_hd=None, is_private=None, stories=[]), comment_count=48, comments_disabled=False, commenting_disabled_for_viewer=False, like_count=146, play_count=None, has_liked=None, caption_text='찐전역하고 사진 보니까 일년반 별거 없네;; 다들 고마웠고 행복하게 지내요~💛 모두 흥덕해~~❤️ 아울러 심심한데 나랑 놀사람~~', accessibility_caption=None, usertags=[], sponsor_tags=[], video_url=None, view_count=0, video_duration=0.0, title='', resources=[Resource(pk='2822472739743713149', video_url=None, thumbnail_url=HttpUrl('https://scontent-hkg4-1.cdninstagram.com/v/t51.2885-15/279052997_1053829135209482_2598627683858483714_n.jpg?stp=dst-jpg_e35_p1080x1080&_nc_ht=scontent-hkg4-1.cdninstagram.com&_nc_cat=102&_nc_ohc=20JwDcOSoLoAX-bZ7Sb&edm=APU89FABAAAA&ccb=7-5&oh=00_AfAiw2gRkASsKRrcfhZxQIUeVruL5gBltKag1nJAo_jTGw&oe=643F901B&_nc_sid=86f79a', ), media_type=1), Resource(pk='2822472739760380823', video_url=None, thumbnail_url=HttpUrl('https://scontent-hkg4-1.cdninstagram.com/v/t51.2885-15/278995131_2920568761573069_1472856592827178679_n.jpg?stp=dst-jpg_e35_p1080x1080&_nc_ht=scontent-hkg4-1.cdninstagram.com&_nc_cat=101&_nc_ohc=yurOMXaN3UcAX88F1yA&edm=APU89FABAAAA&ccb=7-5&oh=00_AfCmFA98InTheWkjF3uEKsMIiyjy0CaYQv9qCvFuGorJZA&oe=643FE3AE&_nc_sid=86f79a', ), media_type=1), Resource(pk='2822472739743841283', video_url=None, thumbnail_url=HttpUrl('https://scontent-hkg4-2.cdninstagram.com/v/t51.2885-15/278946225_7290913780982229_2521258667113253758_n.jpg?stp=dst-jpg_e35_p1080x1080&_nc_ht=scontent-hkg4-2.cdninstagram.com&_nc_cat=109&_nc_ohc=LXnZOUhPMfYAX8TcS6f&edm=APU89FABAAAA&ccb=7-5&oh=00_AfD9EZ2EfRGQoGfFxjcB1FqlC5Ae9C8G79TuReekg6rdHg&oe=643FA583&_nc_sid=86f79a', ), media_type=1), Resource(pk='2822472739735434458', video_url=None, thumbnail_url=HttpUrl('https://scontent-hkg4-1.cdninstagram.com/v/t51.2885-15/279069383_355160046657222_2352954157662732951_n.jpg?stp=dst-jpg_e35_p1080x1080&_nc_ht=scontent-hkg4-1.cdninstagram.com&_nc_cat=106&_nc_ohc=su2C1Npim2gAX9UcOGI&edm=APU89FABAAAA&ccb=7-5&oh=00_AfA4Hj_LlfWU-CzTbmo3hczJ0siq5kRLoYwP7bHGG8ISug&oe=643F9C06&_nc_sid=86f79a', ), media_type=1), Resource(pk='2822472739777290973', video_url=None, thumbnail_url=HttpUrl('https://scontent-hkg4-2.cdninstagram.com/v/t51.2885-15/278961797_405205284440518_8628219073189699071_n.jpg?stp=dst-jpg_e35_p1080x1080&_nc_ht=scontent-hkg4-2.cdninstagram.com&_nc_cat=110&_nc_ohc=FXD0quFh-OgAX8q46CM&edm=APU89FABAAAA&ccb=7-5&oh=00_AfACQ5B5hgAACG2dmHfGhL7Qbu8TbPH1Sorladm1CpT1uQ&oe=643EA74A&_nc_sid=86f79a', ), media_type=1), Resource(pk='2822472739743642798', video_url=None, thumbnail_url=HttpUrl('https://scontent-hkg4-1.cdninstagram.com/v/t51.2885-15/278893402_402274288079672_6283238754237274245_n.jpg?stp=dst-jpg_e35_p1080x1080&_nc_ht=scontent-hkg4-1.cdninstagram.com&_nc_cat=108&_nc_ohc=BvzO9XW-uEYAX-yGLDE&edm=APU89FABAAAA&ccb=7-5&oh=00_AfAHz4rm0YFD74CkYPvV4BjTsa0xBUIF0RusdlgjlxKFZg&oe=644019B1&_nc_sid=86f79a', ), media_type=1), Resource(pk='2822472739743684229', video_url=None, thumbnail_url=HttpUrl('https://scontent-hkg4-1.cdninstagram.com/v/t51.2885-15/278931020_333156572139126_509473316352118912_n.jpg?stp=dst-jpg_e35_p1080x1080&_nc_ht=scontent-hkg4-1.cdninstagram.com&_nc_cat=106&_nc_ohc=JPLvqnI0LNAAX-OnAzF&edm=APU89FABAAAA&ccb=7-5&oh=00_AfCqjN2VVLOHiXv7xwgDigznnVYN7hzWbyst4MUgbeutwA&oe=643F4D68&_nc_sid=86f79a', ), media_type=1), Resource(pk='2822472739743722439', video_url=None, thumbnail_url=HttpUrl('https://scontent-hkg4-1.cdninstagram.com/v/t51.2885-15/278962850_488107373051119_7931445293201256088_n.jpg?stp=dst-jpg_e35_p1080x1080&_nc_ht=scontent-hkg4-1.cdninstagram.com&_nc_cat=107&_nc_ohc=lZYKzPy9AOkAX-QMks2&edm=APU89FABAAAA&ccb=7-5&oh=00_AfBQ_qx80oKcNuuOUCa9wzyuH7WxEFjQSP2p5Vn3FDhPbA&oe=643EAB31&_nc_sid=86f79a', ), media_type=1), Resource(pk='2822472739777157249', video_url=None, thumbnail_url=HttpUrl('https://scontent-hkg4-2.cdninstagram.com/v/t51.2885-15/279134074_318748833699599_6246387324786973760_n.jpg?stp=dst-jpg_e35_p1080x1080&_nc_ht=scontent-hkg4-2.cdninstagram.com&_nc_cat=111&_nc_ohc=Ka5CRUsalPMAX8E9kIe&edm=APU89FABAAAA&ccb=7-5&oh=00_AfCgoUuY2P_A7alj5NSUfokErhu_1GOrxdPKAJbDUjgV5g&oe=643FBB7B&_nc_sid=86f79a', ), media_type=1), Resource(pk='2822472739743657552', video_url=None, thumbnail_url=HttpUrl('https://scontent-hkg4-2.cdninstagram.com/v/t51.2885-15/278932907_122956637012891_7494255784845773681_n.jpg?stp=dst-jpg_e35_p1080x1080&_nc_ht=scontent-hkg4-2.cdninstagram.com&_nc_cat=111&_nc_ohc=RC2aYBVkQfwAX_rIW-n&edm=APU89FABAAAA&ccb=7-5&oh=00_AfAHFsxDcQ6JepuNmtBMtvRD53MIQk6oq8u9YtT88tLqhw&oe=643EFF63&_nc_sid=86f79a', ), media_type=1)], clips_metadata={}),\n",
       " Media(pk='2801608292431070344', id='2801608292431070344_1707336878', code='CbhT-X-JISI', taken_at=datetime.datetime(2022, 3, 25, 8, 42, 35, tzinfo=datetime.timezone.utc), media_type=8, image_versions2={}, product_type='', thumbnail_url=None, location=None, user=UserShort(pk='1707336878', username='taemin_25', full_name='', profile_pic_url=None, profile_pic_url_hd=None, is_private=None, stories=[]), comment_count=17, comments_disabled=False, commenting_disabled_for_viewer=False, like_count=167, play_count=None, has_liked=None, caption_text='2022년 3월 25일 윤태민 김용진 왔다감!', accessibility_caption=None, usertags=[Usertag(user=UserShort(pk='13558415513', username='d.yj0528', full_name='', profile_pic_url=None, profile_pic_url_hd=None, is_private=None, stories=[]), x=0.3784219002, y=0.5933977456)], sponsor_tags=[], video_url=None, view_count=0, video_duration=0.0, title='', resources=[Resource(pk='2801608287389565958', video_url=None, thumbnail_url=HttpUrl('https://scontent-hkg4-1.cdninstagram.com/v/t51.2885-15/277094151_137351722140788_1971576166363957416_n.jpg?stp=dst-jpg_e35_p1080x1080&_nc_ht=scontent-hkg4-1.cdninstagram.com&_nc_cat=108&_nc_ohc=2MNgJMyusQsAX_TekR1&edm=APU89FABAAAA&ccb=7-5&oh=00_AfBBMouVeGymVM5EzKZ4A_lV9QsL9NJU2DKa8NUN1_lHuQ&oe=643FB689&_nc_sid=86f79a', ), media_type=1), Resource(pk='2801608287406265445', video_url=None, thumbnail_url=HttpUrl('https://scontent-hkg4-1.cdninstagram.com/v/t51.2885-15/277112011_968581044051656_6996440636614466943_n.jpg?stp=dst-jpg_e35_p1080x1080&_nc_ht=scontent-hkg4-1.cdninstagram.com&_nc_cat=108&_nc_ohc=GJkRUmqy3KEAX9agX2B&edm=APU89FABAAAA&ccb=7-5&oh=00_AfBbPL21-DNPpnsCmyEk6wZq5nTshHSSbKEhER1Im-XLWQ&oe=643F98F4&_nc_sid=86f79a', ), media_type=1), Resource(pk='2801608287465103689', video_url=None, thumbnail_url=HttpUrl('https://scontent-hkg4-1.cdninstagram.com/v/t51.2885-15/277113966_542595200522612_1312666786805925602_n.jpg?stp=dst-jpg_e35_p1080x1080&_nc_ht=scontent-hkg4-1.cdninstagram.com&_nc_cat=108&_nc_ohc=Azl-ru-CWecAX-tZrGy&edm=APU89FABAAAA&ccb=7-5&oh=00_AfCbriiOn_zv2GE5K36GCKUBdizYfmCdeSLIoDW_mC4MWg&oe=64403B5B&_nc_sid=86f79a', ), media_type=1), Resource(pk='2801608287389494159', video_url=None, thumbnail_url=HttpUrl('https://scontent-hkg4-1.cdninstagram.com/v/t51.2885-15/277114183_3238494286407607_7201528054577687200_n.jpg?stp=dst-jpg_e35_p1080x1080&_nc_ht=scontent-hkg4-1.cdninstagram.com&_nc_cat=107&_nc_ohc=hsQQ_POAyAMAX-7k-AL&edm=APU89FABAAAA&ccb=7-5&oh=00_AfBNZqP7N8U7gDW_XiONrPG7CsEIxUjbFRlrM7DeTl3Ufg&oe=64401B43&_nc_sid=86f79a', ), media_type=1)], clips_metadata={}),\n",
       " Media(pk='2761833503982375617', id='2761833503982375617_1707336878', code='CZUAPBlpFLB', taken_at=datetime.datetime(2022, 1, 29, 11, 37, 11, tzinfo=datetime.timezone.utc), media_type=8, image_versions2={}, product_type='', thumbnail_url=None, location=None, user=UserShort(pk='1707336878', username='taemin_25', full_name='', profile_pic_url=None, profile_pic_url_hd=None, is_private=None, stories=[]), comment_count=28, comments_disabled=False, commenting_disabled_for_viewer=False, like_count=142, play_count=None, has_liked=None, caption_text='저기 뭐 있다 ! ! ! ! !', accessibility_caption=None, usertags=[], sponsor_tags=[], video_url=None, view_count=0, video_duration=0.0, title='', resources=[Resource(pk='2761833499721034317', video_url=None, thumbnail_url=HttpUrl('https://scontent-hkg4-2.cdninstagram.com/v/t51.2885-15/272908628_430514028863476_7761026432998329429_n.jpg?stp=dst-jpg_e35_p1080x1080&_nc_ht=scontent-hkg4-2.cdninstagram.com&_nc_cat=104&_nc_ohc=mIbjV-TYkVYAX_GyLST&edm=APU89FABAAAA&ccb=7-5&oh=00_AfCS0CkvTgKWI-2j_SIpOk13S1vrwnRnbrLXowX0xOK1Ow&oe=643FA41C&_nc_sid=86f79a', ), media_type=1), Resource(pk='2761833499704298286', video_url=None, thumbnail_url=HttpUrl('https://scontent-hkg4-2.cdninstagram.com/v/t51.2885-15/272888214_1018673075352141_33222471567690376_n.jpg?stp=dst-jpg_e35_p1080x1080&_nc_ht=scontent-hkg4-2.cdninstagram.com&_nc_cat=109&_nc_ohc=qBx3gpGqRigAX8TSHCs&edm=APU89FABAAAA&ccb=7-5&oh=00_AfBobL_OlyTs-axJ94qWQWlFcW8-kGx9tLEFX0xMxPYuaA&oe=643F997C&_nc_sid=86f79a', ), media_type=1), Resource(pk='2761833499737852224', video_url=None, thumbnail_url=HttpUrl('https://scontent-hkg4-1.cdninstagram.com/v/t51.2885-15/272803297_446402763894829_6635478045444598879_n.jpg?stp=dst-jpg_e35_p1080x1080&_nc_ht=scontent-hkg4-1.cdninstagram.com&_nc_cat=101&_nc_ohc=xa5OWebpjk8AX9NaED6&edm=APU89FABAAAA&ccb=7-5&oh=00_AfDMvQtgYClWLX0b1NEYkerXQjeG4zR_ZYjPc2k3RgUqTA&oe=644021AB&_nc_sid=86f79a', ), media_type=1), Resource(pk='2761833499788059109', video_url=None, thumbnail_url=HttpUrl('https://scontent-hkg4-1.cdninstagram.com/v/t51.2885-15/272831928_469862257853870_5263481236467388168_n.jpg?stp=dst-jpg_e35_p1080x1080&_nc_ht=scontent-hkg4-1.cdninstagram.com&_nc_cat=102&_nc_ohc=4bo_kE-Zi_sAX9DeQob&edm=APU89FABAAAA&ccb=7-5&oh=00_AfA_07VRwtd4bWiwmKF-otjqoo6EHj-D45jA6ZQ2hiTI5A&oe=643FAC50&_nc_sid=86f79a', ), media_type=1)], clips_metadata={}),\n",
       " Media(pk='2711020468330344341', id='2711020468330344341_1707336878', code='CWfesCZpK-V', taken_at=datetime.datetime(2021, 11, 20, 9, 0, 45, tzinfo=datetime.timezone.utc), media_type=8, image_versions2={}, product_type='', thumbnail_url=None, location=None, user=UserShort(pk='1707336878', username='taemin_25', full_name='', profile_pic_url=None, profile_pic_url_hd=None, is_private=None, stories=[]), comment_count=31, comments_disabled=False, commenting_disabled_for_viewer=False, like_count=145, play_count=None, has_liked=None, caption_text='아직 세시간 남았다. 남았다고.', accessibility_caption=None, usertags=[Usertag(user=UserShort(pk='13558415513', username='d.yj0528', full_name='', profile_pic_url=None, profile_pic_url_hd=None, is_private=None, stories=[]), x=0.3792270531, y=0.016339870200000002), Usertag(user=UserShort(pk='2525039193', username='si_hon_ey', full_name='', profile_pic_url=None, profile_pic_url_hd=None, is_private=None, stories=[]), x=0.5909822866000001, y=0.016339870200000002), Usertag(user=UserShort(pk='31601068056', username='urururu_k', full_name='', profile_pic_url=None, profile_pic_url_hd=None, is_private=None, stories=[]), x=0.7995169082, y=0.016339870200000002)], sponsor_tags=[], video_url=None, view_count=0, video_duration=0.0, title='', resources=[Resource(pk='2711020463490245574', video_url=None, thumbnail_url=HttpUrl('https://scontent-hkg4-1.cdninstagram.com/v/t51.2885-15/258789442_859660078058694_5085206075926741424_n.jpg?stp=dst-jpg_e35_p1080x1080&_nc_ht=scontent-hkg4-1.cdninstagram.com&_nc_cat=106&_nc_ohc=USxElgCyJpIAX9Dtj17&edm=APU89FABAAAA&ccb=7-5&oh=00_AfA35ltw0l7kUPnIPwc3HhiFapo0vQhYzbAKWqOSB81l7w&oe=643E866D&_nc_sid=86f79a', ), media_type=1), Resource(pk='2711020463464941086', video_url=None, thumbnail_url=HttpUrl('https://scontent-hkg4-1.cdninstagram.com/v/t51.2885-15/258731026_249144650536826_8925036657713332845_n.jpg?stp=dst-jpg_e35_p1080x1080&_nc_ht=scontent-hkg4-1.cdninstagram.com&_nc_cat=102&_nc_ohc=_TTnQcLrwXEAX_MNOfF&edm=APU89FABAAAA&ccb=7-5&oh=00_AfDV6q5LsTzBlko1B_Ynwxx9-PAChQMNrTtkkS8znZoLvw&oe=643F122E&_nc_sid=86f79a', ), media_type=1), Resource(pk='2711020463456602837', video_url=None, thumbnail_url=HttpUrl('https://scontent-hkg4-2.cdninstagram.com/v/t51.2885-15/258809639_1031806064327128_1792347603844936596_n.jpg?stp=dst-jpg_e35_p1080x1080&_nc_ht=scontent-hkg4-2.cdninstagram.com&_nc_cat=104&_nc_ohc=tUSdTQknoRoAX9CRD78&edm=APU89FABAAAA&ccb=7-5&oh=00_AfBG1Hk2GSyHpyStnDyCBCWme7MaCBtheMwlKFspLd-bdg&oe=643FB289&_nc_sid=86f79a', ), media_type=1)], clips_metadata={}),\n",
       " Media(pk='2701617014705072264', id='2701617014705072264_1707336878', code='CV-ElxwpaiI', taken_at=datetime.datetime(2021, 11, 7, 9, 37, 46, tzinfo=datetime.timezone.utc), media_type=8, image_versions2={}, product_type='', thumbnail_url=None, location=None, user=UserShort(pk='1707336878', username='taemin_25', full_name='', profile_pic_url=None, profile_pic_url_hd=None, is_private=None, stories=[]), comment_count=32, comments_disabled=False, commenting_disabled_for_viewer=False, like_count=150, play_count=None, has_liked=None, caption_text='어~ 그려 형이 오늘 기분이 좀 좋아~', accessibility_caption=None, usertags=[Usertag(user=UserShort(pk='41138772674', username='uchang__is', full_name='', profile_pic_url=None, profile_pic_url_hd=None, is_private=None, stories=[]), x=0.4766505636, y=0.7351046699)], sponsor_tags=[], video_url=None, view_count=0, video_duration=0.0, title='', resources=[Resource(pk='2701617010577912136', video_url=None, thumbnail_url=HttpUrl('https://scontent-hkg4-1.cdninstagram.com/v/t51.2885-15/253397562_592821395267982_1026616555763305160_n.jpg?stp=dst-jpg_e35_p1080x1080&_nc_ht=scontent-hkg4-1.cdninstagram.com&_nc_cat=106&_nc_ohc=0tIwlBsUR-UAX8EakoY&edm=APU89FABAAAA&ccb=7-5&oh=00_AfCqZrGWUorahZkhANjaLKWrRUssCGVrcVXwLYO-Qesbjw&oe=643F2237&_nc_sid=86f79a', ), media_type=1), Resource(pk='2701617010569431830', video_url=None, thumbnail_url=HttpUrl('https://scontent-hkg4-1.cdninstagram.com/v/t51.2885-15/252975203_273810344666486_3167527508124139174_n.jpg?stp=dst-jpg_e35_p1080x1080&_nc_ht=scontent-hkg4-1.cdninstagram.com&_nc_cat=102&_nc_ohc=hIJEYMPooR4AX_bD-Vi&edm=APU89FABAAAA&ccb=7-5&oh=00_AfDIwMkfS7wb_oSmAXCX-GYhvEtWW5gFvp7ZOCzumcdpFw&oe=64400515&_nc_sid=86f79a', ), media_type=1), Resource(pk='2701617010628195564', video_url=None, thumbnail_url=HttpUrl('https://scontent-hkg4-1.cdninstagram.com/v/t51.2885-15/253251108_425305882336059_2034520330195748648_n.jpg?stp=dst-jpg_e35_p1080x1080&_nc_ht=scontent-hkg4-1.cdninstagram.com&_nc_cat=103&_nc_ohc=a0BDLX_SZRgAX9pqRV-&edm=APU89FABAAAA&ccb=7-5&oh=00_AfC7bQioj1msMfepGbojgTYXr03xq_rF0CDnApyKYRjtmA&oe=643E9A57&_nc_sid=86f79a', ), media_type=1), Resource(pk='2701617010569621726', video_url=None, thumbnail_url=HttpUrl('https://scontent-hkg4-1.cdninstagram.com/v/t51.2885-15/253043443_123204040123470_5261971962717689499_n.jpg?stp=dst-jpg_e35&_nc_ht=scontent-hkg4-1.cdninstagram.com&_nc_cat=106&_nc_ohc=hrJvZtO_WgAAX9tIAY-&edm=APU89FABAAAA&ccb=7-5&oh=00_AfBxe1cP5uicOHx80fgjw4-yfJyaq00uzTLz_XYiAwQKAw&oe=643FBFDE&_nc_sid=86f79a', ), media_type=1), Resource(pk='2701617010552816674', video_url=None, thumbnail_url=HttpUrl('https://scontent-hkg4-1.cdninstagram.com/v/t51.2885-15/253484532_140070018359616_2052147795903102580_n.jpg?stp=dst-jpg_e35_p1080x1080&_nc_ht=scontent-hkg4-1.cdninstagram.com&_nc_cat=100&_nc_ohc=Q7Lpor7loocAX_4iX90&edm=APU89FABAAAA&ccb=7-5&oh=00_AfDAVe0W30aCPMATbRHDSTDYXiwABBo-DhH2iEaJzr_xDQ&oe=64402AAB&_nc_sid=86f79a', ), media_type=1)], clips_metadata={}),\n",
       " Media(pk='2608808140691865500', id='2608808140691865500_1707336878', code='CQ0WS6RFf-c', taken_at=datetime.datetime(2021, 7, 2, 8, 23, 6, tzinfo=datetime.timezone.utc), media_type=8, image_versions2={}, product_type='', thumbnail_url=None, location=None, user=UserShort(pk='1707336878', username='taemin_25', full_name='', profile_pic_url=None, profile_pic_url_hd=None, is_private=None, stories=[]), comment_count=24, comments_disabled=False, commenting_disabled_for_viewer=False, like_count=110, play_count=None, has_liked=None, caption_text='휴가\\n다시\\n나가고 싶어 ~~', accessibility_caption=None, usertags=[Usertag(user=UserShort(pk='1921218940', username='anwj1228', full_name='', profile_pic_url=None, profile_pic_url_hd=None, is_private=None, stories=[]), x=0.25362318840000003, y=0.8808373591)], sponsor_tags=[], video_url=None, view_count=0, video_duration=0.0, title='', resources=[Resource(pk='2608808137193850998', video_url=None, thumbnail_url=HttpUrl('https://scontent-hkg4-1.cdninstagram.com/v/t51.2885-15/210591083_4234986749857167_2191539424650397731_n.jpg?stp=dst-jpg_e35_s1080x1080&_nc_ht=scontent-hkg4-1.cdninstagram.com&_nc_cat=103&_nc_ohc=SnhBaJww9WYAX-Di6Zk&edm=APU89FABAAAA&ccb=7-5&oh=00_AfBPYdHFUgUrB4TyXg41eL75dLCE7zxkhzBeQhzl7UPgsw&oe=643EAAFE&_nc_sid=86f79a', ), media_type=1), Resource(pk='2608808137185502452', video_url=None, thumbnail_url=HttpUrl('https://scontent-hkg4-1.cdninstagram.com/v/t51.2885-15/209986919_4507093802643781_6534297261424958904_n.jpg?stp=dst-jpg_e35_s1080x1080&_nc_ht=scontent-hkg4-1.cdninstagram.com&_nc_cat=101&_nc_ohc=OYHLH7IkwHgAX9--GHk&edm=APU89FABAAAA&ccb=7-5&oh=00_AfCCatyMHdg1OgpaeYAWhiCGEVZlXJuCxd1B6VIhWA6vpA&oe=6440115B&_nc_sid=86f79a', ), media_type=1)], clips_metadata={}),\n",
       " Media(pk='2513112619394850968', id='2513112619394850968_1707336878', code='CLgXpy_lOCY', taken_at=datetime.datetime(2021, 2, 20, 7, 33, 11, tzinfo=datetime.timezone.utc), media_type=8, image_versions2={}, product_type='', thumbnail_url=None, location=None, user=UserShort(pk='1707336878', username='taemin_25', full_name='', profile_pic_url=None, profile_pic_url_hd=None, is_private=None, stories=[]), comment_count=36, comments_disabled=False, commenting_disabled_for_viewer=False, like_count=127, play_count=None, has_liked=None, caption_text='류현진 어디없나 불러와봐 ;;', accessibility_caption=None, usertags=[], sponsor_tags=[], video_url=None, view_count=0, video_duration=0.0, title='', resources=[Resource(pk='2513112617289420072', video_url=None, thumbnail_url=HttpUrl('https://scontent-hkg4-1.cdninstagram.com/v/t51.2885-15/151785381_452528429274867_6227014928715535618_n.jpg?stp=dst-jpg_e35_s1080x1080&_nc_ht=scontent-hkg4-1.cdninstagram.com&_nc_cat=103&_nc_ohc=wH0BA-LuoGcAX_qrvqY&edm=APU89FABAAAA&ccb=7-5&oh=00_AfCgGzRBGuniSsQzdwAw0jfI_Uv9Wt3Felzo9WOoAIJE_g&oe=64401DE1&_nc_sid=86f79a', ), media_type=1), Resource(pk='2513112617281059523', video_url=None, thumbnail_url=HttpUrl('https://scontent-hkg4-1.cdninstagram.com/v/t51.2885-15/152029085_434488554541189_5542152384202873329_n.jpg?stp=dst-jpg_e35_s1080x1080&_nc_ht=scontent-hkg4-1.cdninstagram.com&_nc_cat=101&_nc_ohc=qs-i9oIqbeQAX8oGv2j&edm=APU89FABAAAA&ccb=7-5&oh=00_AfBMLgRuFwB-EfJn-fUSwvlTRD1pvamDmBYRMPET7S0ldg&oe=643F8507&_nc_sid=86f79a', ), media_type=1)], clips_metadata={}),\n",
       " Media(pk='2425302815574814772', id='2425302815574814772_1707336878', code='CGoaA-bF3A0', taken_at=datetime.datetime(2020, 10, 22, 3, 50, 47, tzinfo=datetime.timezone.utc), media_type=1, image_versions2={}, product_type='', thumbnail_url=HttpUrl('https://scontent-hkg4-1.cdninstagram.com/v/t51.2885-15/122086889_657893894919331_4977484855674596500_n.jpg?stp=dst-jpg_e35_s1080x1080&_nc_ht=scontent-hkg4-1.cdninstagram.com&_nc_cat=107&_nc_ohc=HOuYHQGITPcAX-gZzSf&edm=APU89FABAAAA&ccb=7-5&oh=00_AfD9YeArmSFx3qF1WOcj-9QFYVj2FIPsKfOGnXAMBCF2vw&oe=643EDDCA&_nc_sid=86f79a', ), location=None, user=UserShort(pk='1707336878', username='taemin_25', full_name='', profile_pic_url=None, profile_pic_url_hd=None, is_private=None, stories=[]), comment_count=13, comments_disabled=False, commenting_disabled_for_viewer=False, like_count=120, play_count=None, has_liked=None, caption_text='다들 정말 고마워 ~~~\\n행복하게지내 ㅜㅜㅠ', accessibility_caption=None, usertags=[], sponsor_tags=[], video_url=None, view_count=0, video_duration=0.0, title='', resources=[], clips_metadata={}),\n",
       " Media(pk='2379159057897715798', id='2379159057897715798_1707336878', code='CEEeI7OJXhW', taken_at=datetime.datetime(2020, 8, 19, 11, 51, 22, tzinfo=datetime.timezone.utc), media_type=8, image_versions2={}, product_type='', thumbnail_url=None, location=None, user=UserShort(pk='1707336878', username='taemin_25', full_name='', profile_pic_url=None, profile_pic_url_hd=None, is_private=None, stories=[]), comment_count=32, comments_disabled=False, commenting_disabled_for_viewer=False, like_count=137, play_count=None, has_liked=None, caption_text='바닷가 모래가 그렇게 부드럽더라고 ••\\n⠀\\n⠀\\n⠀\\n#부산 #바다 #광안리 #해운대 #야경 #반짝반짝', accessibility_caption=None, usertags=[Usertag(user=UserShort(pk='2006751757', username='two0_money', full_name='', profile_pic_url=None, profile_pic_url_hd=None, is_private=None, stories=[]), x=0.32769726250000003, y=0.38325281800000005), Usertag(user=UserShort(pk='2075855894', username='badalee_0822', full_name='', profile_pic_url=None, profile_pic_url_hd=None, is_private=None, stories=[]), x=0.5305958132, y=0.8679549114), Usertag(user=UserShort(pk='8647479810', username='ji_suu_uu1', full_name='', profile_pic_url=None, profile_pic_url_hd=None, is_private=None, stories=[]), x=0.6352657005, y=0.3816425121)], sponsor_tags=[], video_url=None, view_count=0, video_duration=0.0, title='', resources=[Resource(pk='2379159053955176412', video_url=None, thumbnail_url=HttpUrl('https://scontent-hkg4-1.cdninstagram.com/v/t51.2885-15/118137847_294493348522501_3646588996341113745_n.jpg?stp=dst-jpg_e35_s1080x1080&_nc_ht=scontent-hkg4-1.cdninstagram.com&_nc_cat=101&_nc_ohc=MQFR12HAryMAX_0YD3x&edm=APU89FABAAAA&ccb=7-5&oh=00_AfDIGIFU_12iyRkLP-GtFTMeqLQsduwdUHQMhehT_789EA&oe=64405D4D&_nc_sid=86f79a', ), media_type=1), Resource(pk='2379159053938359922', video_url=None, thumbnail_url=HttpUrl('https://scontent-hkg4-1.cdninstagram.com/v/t51.2885-15/117866793_3009475315846099_6585715735769590652_n.jpg?stp=dst-jpg_e35_s1080x1080&_nc_ht=scontent-hkg4-1.cdninstagram.com&_nc_cat=107&_nc_ohc=KwYB3P50pAUAX8Dlnxu&edm=APU89FABAAAA&ccb=7-5&oh=00_AfB9gY1oSm_TSHPfNPRmS8d0yWu0iW1FUzSwf0r-6m8wDA&oe=643F767E&_nc_sid=86f79a', ), media_type=1), Resource(pk='2379159053963518926', video_url=None, thumbnail_url=HttpUrl('https://scontent-hkg4-2.cdninstagram.com/v/t51.2885-15/117802374_318048009386037_3386189545009380904_n.jpg?stp=dst-jpg_e35&_nc_ht=scontent-hkg4-2.cdninstagram.com&_nc_cat=109&_nc_ohc=JzNmHmrsURkAX97KUZh&edm=APU89FABAAAA&ccb=7-5&oh=00_AfByH8nBDhvb0Vd_9-XNfyT3sPCEM0HF8_mLVvbDzy5F-w&oe=64401916&_nc_sid=86f79a', ), media_type=1), Resource(pk='2379159053971910062', video_url=None, thumbnail_url=HttpUrl('https://scontent-hkg4-1.cdninstagram.com/v/t51.2885-15/117751258_723905741520908_2348346148845447328_n.jpg?stp=dst-jpg_e35_s1080x1080&_nc_ht=scontent-hkg4-1.cdninstagram.com&_nc_cat=108&_nc_ohc=Cs8BqdITah8AX9otKnZ&edm=APU89FABAAAA&ccb=7-5&oh=00_AfB5sBwwoyUQObRltmb4WxJCK2NW2CZVTmmgwHbLadrKJw&oe=643EA4CE&_nc_sid=86f79a', ), media_type=1)], clips_metadata={}),\n",
       " Media(pk='2335778584752761113', id='2335778584752761113_1707336878', code='CBqWj9SJykZ', taken_at=datetime.datetime(2020, 6, 20, 15, 22, 7, tzinfo=datetime.timezone.utc), media_type=8, image_versions2={}, product_type='', thumbnail_url=None, location=None, user=UserShort(pk='1707336878', username='taemin_25', full_name='', profile_pic_url=None, profile_pic_url_hd=None, is_private=None, stories=[]), comment_count=28, comments_disabled=False, commenting_disabled_for_viewer=False, like_count=103, play_count=None, has_liked=None, caption_text='빈자리 채워줄사람?', accessibility_caption=None, usertags=[Usertag(user=UserShort(pk='12164155459', username='ach._.my_goal29', full_name='', profile_pic_url=None, profile_pic_url_hd=None, is_private=None, stories=[]), x=0.267310789, y=0.3945249597), Usertag(user=UserShort(pk='3158270183', username='gwani_17', full_name='', profile_pic_url=None, profile_pic_url_hd=None, is_private=None, stories=[]), x=0.4806763285, y=0.7471819646000001), Usertag(user=UserShort(pk='8194962125', username='yes_ezin', full_name='', profile_pic_url=None, profile_pic_url_hd=None, is_private=None, stories=[]), x=0.49436392910000004, y=0.2495974235)], sponsor_tags=[], video_url=None, view_count=0, video_duration=0.0, title='', resources=[Resource(pk='2335778580784902608', video_url=None, thumbnail_url=HttpUrl('https://scontent-hkg4-1.cdninstagram.com/v/t51.2885-15/105493833_347521332896369_7044929415206660771_n.jpg?stp=dst-jpg_e35_s1080x1080&_nc_ht=scontent-hkg4-1.cdninstagram.com&_nc_cat=105&_nc_ohc=-CjlMYHxZDgAX9q6UHV&edm=APU89FABAAAA&ccb=7-5&oh=00_AfCCEdEbSvEeMkY78Y1QWG7ECsAFV4PlwygCnG24cfjwVQ&oe=64405C2C&_nc_sid=86f79a', ), media_type=1), Resource(pk='2335778581103577821', video_url=None, thumbnail_url=HttpUrl('https://scontent-hkg4-1.cdninstagram.com/v/t51.2885-15/104275019_626591828213725_3444959389851374390_n.jpg?stp=dst-jpg_e35&_nc_ht=scontent-hkg4-1.cdninstagram.com&_nc_cat=101&_nc_ohc=mJuPVmEnVW8AX_og_1S&edm=APU89FABAAAA&ccb=7-5&oh=00_AfAggVeua5AvEVUZNevIv-QRaShuffiHSIRr7Fm2N3C4wg&oe=643FDCFC&_nc_sid=86f79a', ), media_type=1), Resource(pk='2335778581070165226', video_url=None, thumbnail_url=HttpUrl('https://scontent-hkg4-1.cdninstagram.com/v/t51.2885-15/104286142_587920028781272_5196133390730916651_n.jpg?stp=dst-jpg_e35_s1080x1080&_nc_ht=scontent-hkg4-1.cdninstagram.com&_nc_cat=108&_nc_ohc=4CxxJySuxWMAX8-1S9G&edm=APU89FABAAAA&ccb=7-5&oh=00_AfAW3pitlmpuC3BUD02kAaSqTUZ1wiTxo1X14rPdLKAp9A&oe=643FE026&_nc_sid=86f79a', ), media_type=1), Resource(pk='2335778580801551846', video_url=None, thumbnail_url=HttpUrl('https://scontent-hkg4-1.cdninstagram.com/v/t51.2885-15/104126396_262036931553794_1251793885578172349_n.jpg?stp=dst-jpg_e35&_nc_ht=scontent-hkg4-1.cdninstagram.com&_nc_cat=102&_nc_ohc=T3k6UmtBW64AX-CMaC0&edm=APU89FABAAAA&ccb=7-5&oh=00_AfAGwS8_N0ycTF5gz4oHugryoWEh4JLpwyEpRjWLItieWA&oe=64405091&_nc_sid=86f79a', ), media_type=1)], clips_metadata={}),\n",
       " Media(pk='2319452993841603922', id='2319452993841603922_1707336878', code='CAwWjV7JSVS', taken_at=datetime.datetime(2020, 5, 29, 2, 46, 5, tzinfo=datetime.timezone.utc), media_type=1, image_versions2={}, product_type='', thumbnail_url=HttpUrl('https://scontent-hkg4-1.cdninstagram.com/v/t51.2885-15/100922783_262912714788702_2783382567553905609_n.jpg?stp=dst-jpg_e35_s1080x1080&_nc_ht=scontent-hkg4-1.cdninstagram.com&_nc_cat=106&_nc_ohc=v9suwPPQ1BgAX_bZZTp&edm=APU89FABAAAA&ccb=7-5&oh=00_AfBKQW8k226gx0D6adBwUUas9TH1Zre0slLGD-IwD60UXQ&oe=643E7AA1&_nc_sid=86f79a', ), location=None, user=UserShort(pk='1707336878', username='taemin_25', full_name='', profile_pic_url=None, profile_pic_url_hd=None, is_private=None, stories=[]), comment_count=40, comments_disabled=False, commenting_disabled_for_viewer=False, like_count=116, play_count=None, has_liked=None, caption_text='나와 어디야', accessibility_caption=None, usertags=[], sponsor_tags=[], video_url=None, view_count=0, video_duration=0.0, title='', resources=[], clips_metadata={}),\n",
       " Media(pk='2301492159881564289', id='2301492159881564289_1707336878', code='B_wiuzzFlCB', taken_at=datetime.datetime(2020, 5, 4, 8, 1, 7, tzinfo=datetime.timezone.utc), media_type=1, image_versions2={}, product_type='', thumbnail_url=HttpUrl('https://scontent-hkg4-1.cdninstagram.com/v/t51.2885-15/95434518_1132499797098375_6530433769744179401_n.jpg?stp=dst-jpg_e35_s1080x1080&_nc_ht=scontent-hkg4-1.cdninstagram.com&_nc_cat=103&_nc_ohc=jNUPv0eMON8AX_oY8WN&edm=APU89FABAAAA&ccb=7-5&oh=00_AfCkk7CLI7emLeuyj1rR0VNJWZ2mumPcB75kcrmixuZorg&oe=643F6A39&_nc_sid=86f79a', ), location=None, user=UserShort(pk='1707336878', username='taemin_25', full_name='', profile_pic_url=None, profile_pic_url_hd=None, is_private=None, stories=[]), comment_count=49, comments_disabled=False, commenting_disabled_for_viewer=False, like_count=95, play_count=None, has_liked=None, caption_text='머리 잘라서 행복해 ㅎㅎ', accessibility_caption=None, usertags=[], sponsor_tags=[], video_url=None, view_count=0, video_duration=0.0, title='', resources=[], clips_metadata={}),\n",
       " Media(pk='2295159226124181076', id='2295159226124181076_1707336878', code='B_aCyfoF55U', taken_at=datetime.datetime(2020, 4, 25, 14, 18, 42, tzinfo=datetime.timezone.utc), media_type=8, image_versions2={}, product_type='', thumbnail_url=None, location=None, user=UserShort(pk='1707336878', username='taemin_25', full_name='', profile_pic_url=None, profile_pic_url_hd=None, is_private=None, stories=[]), comment_count=42, comments_disabled=False, commenting_disabled_for_viewer=False, like_count=111, play_count=None, has_liked=None, caption_text='오늘도 하이\\n⠀\\n⠀\\n⠀\\n#제주도 #집 #가 #기 #싫 #어', accessibility_caption=None, usertags=[], sponsor_tags=[], video_url=None, view_count=0, video_duration=0.0, title='', resources=[Resource(pk='2295159223456572556', video_url=None, thumbnail_url=HttpUrl('https://scontent-hkg4-2.cdninstagram.com/v/t51.2885-15/94738822_1848349205297193_1500410221797875191_n.jpg?stp=dst-jpg_e35&_nc_ht=scontent-hkg4-2.cdninstagram.com&_nc_cat=109&_nc_ohc=On4mz-xeTTQAX9hUw8v&edm=APU89FABAAAA&ccb=7-5&oh=00_AfDbQ1FPoj2xxgk7tGEqhU6p4kjrefMOAp-0b-Oa64aQLQ&oe=643F6A21&_nc_sid=86f79a', ), media_type=1), Resource(pk='2295159223464890929', video_url=None, thumbnail_url=HttpUrl('https://scontent-hkg4-2.cdninstagram.com/v/t51.2885-15/94191226_141041434186605_3663106457270598375_n.jpg?stp=dst-jpg_e35_s1080x1080&_nc_ht=scontent-hkg4-2.cdninstagram.com&_nc_cat=109&_nc_ohc=qCOmBj9JAkwAX_QE0VL&edm=APU89FABAAAA&ccb=7-5&oh=00_AfAsWwFG8O563nkG-uxLbZTs8JK_F797A0yatgOv0bUiQQ&oe=64405154&_nc_sid=86f79a', ), media_type=1), Resource(pk='2295159223439681035', video_url=None, thumbnail_url=HttpUrl('https://scontent-hkg4-1.cdninstagram.com/v/t51.2885-15/94461156_1738723152918378_4475881181333752452_n.jpg?stp=dst-jpg_e35&_nc_ht=scontent-hkg4-1.cdninstagram.com&_nc_cat=106&_nc_ohc=QTl18Sjxk5AAX9DbjK1&edm=APU89FABAAAA&ccb=7-5&oh=00_AfD8ukB5pzhT4xxl-so2Zxxznu9kyZ1IecSBcQa6QCpNLQ&oe=643E9BAF&_nc_sid=86f79a', ), media_type=1), Resource(pk='2295157885867701820', video_url=HttpUrl('https://scontent-hkg4-1.cdninstagram.com/v/t50.2886-16/94058466_270290774138103_6796986785131269592_n.mp4?efg=eyJ2ZW5jb2RlX3RhZyI6InZ0c192b2RfdXJsZ2VuLjcyMC5jYXJvdXNlbF9pdGVtLmRlZmF1bHQiLCJxZV9ncm91cHMiOiJbXCJpZ193ZWJfZGVsaXZlcnlfdnRzX290ZlwiXSJ9&_nc_ht=scontent-hkg4-1.cdninstagram.com&_nc_cat=103&_nc_ohc=VGmf0giIFacAX_qZwxi&edm=APU89FABAAAA&vs=17931719023367540_2808052471&_nc_vs=HBksFQAYJEdPSTNtd1gzSEpUNTAtVUFBTmdOeGhaNHYxTmVia1lMQUFBRhUAAsgBABUAGCRHRXZ0bVFYMHNQX0tzd0FDQUF4VEdYQlJFSThaYmtZTEFBQUYVAgLIAQAoABgAGwAVAAAm6Ojlp7Wz2j8VAigCQzMsF0AomZmZmZmaGBJkYXNoX2Jhc2VsaW5lXzFfdjERAHXuBwA%3D&ccb=7-5&oh=00_AfBTmhYecj_fFUEUhHYLNbMOH8-r70gU8ZQ7pMMW0G1kOg&oe=643C07F0&_nc_sid=86f79a', ), thumbnail_url=HttpUrl('https://scontent-hkg4-1.cdninstagram.com/v/t51.2885-15/94197876_608269119769297_7397156956733643563_n.jpg?stp=dst-jpg_e35&_nc_ht=scontent-hkg4-1.cdninstagram.com&_nc_cat=101&_nc_ohc=TEe-Q2V47v4AX_DYwq_&edm=APU89FABAAAA&ccb=7-5&oh=00_AfBx3x-t9kY4Khf6dpZ_xFEMwbHTD5bnFgA5vT_pT6xsUw&oe=643C4852&_nc_sid=86f79a', ), media_type=2)], clips_metadata={}),\n",
       " Media(pk='2294366559542736940', id='2294366559542736940_1707336878', code='B_XOjrWFHgs', taken_at=datetime.datetime(2020, 4, 24, 12, 3, 49, tzinfo=datetime.timezone.utc), media_type=8, image_versions2={}, product_type='', thumbnail_url=None, location=None, user=UserShort(pk='1707336878', username='taemin_25', full_name='', profile_pic_url=None, profile_pic_url_hd=None, is_private=None, stories=[]), comment_count=45, comments_disabled=False, commenting_disabled_for_viewer=False, like_count=87, play_count=None, has_liked=None, caption_text='나랑 깍지낄사람?\\n⠀\\n⠀\\n⠀\\n#제주도 #바다 #바람', accessibility_caption=None, usertags=[Usertag(user=UserShort(pk='8020517806', username='xnuuuj', full_name='', profile_pic_url=None, profile_pic_url_hd=None, is_private=None, stories=[]), x=0.5040257649000001, y=0.48309178740000003)], sponsor_tags=[], video_url=None, view_count=0, video_duration=0.0, title='', resources=[Resource(pk='2294366556925691787', video_url=None, thumbnail_url=HttpUrl('https://scontent-hkg4-2.cdninstagram.com/v/t51.2885-15/94082180_226824945241900_4145666552488894997_n.jpg?stp=dst-jpg_e35&_nc_ht=scontent-hkg4-2.cdninstagram.com&_nc_cat=104&_nc_ohc=1nAvBBgbT_sAX9fEz4Y&edm=APU89FABAAAA&ccb=7-5&oh=00_AfAh-2m6mmUrZ3rPO_Lh-Wt-C9NMdNJSUkA2JvXKE0Mzag&oe=643F40F3&_nc_sid=86f79a', ), media_type=1), Resource(pk='2294366556917247109', video_url=None, thumbnail_url=HttpUrl('https://scontent-hkg4-1.cdninstagram.com/v/t51.2885-15/94103022_565899667393507_2039131846041465330_n.jpg?stp=dst-jpg_e35_s1080x1080&_nc_ht=scontent-hkg4-1.cdninstagram.com&_nc_cat=107&_nc_ohc=RxT5JhdNVF4AX_ttRVS&edm=APU89FABAAAA&ccb=7-5&oh=00_AfDLUvGsl2RG08WN-1KqPXpNhypmgcxXZtC34WBDcCIQrw&oe=643EF6A8&_nc_sid=86f79a', ), media_type=1), Resource(pk='2294366556934010037', video_url=None, thumbnail_url=HttpUrl('https://scontent-hkg4-1.cdninstagram.com/v/t51.2885-15/94245269_655539431890693_6565548403911539280_n.jpg?stp=dst-jpg_e35_s1080x1080&_nc_ht=scontent-hkg4-1.cdninstagram.com&_nc_cat=101&_nc_ohc=AsGBLo2eEj4AX_B42x6&edm=APU89FABAAAA&ccb=7-5&oh=00_AfDaxFtY3U4YtmWUcQY5O5bVeti_ziw_kPXomqklEVe9qA&oe=643FB383&_nc_sid=86f79a', ), media_type=1), Resource(pk='2294366556900385991', video_url=None, thumbnail_url=HttpUrl('https://scontent-hkg4-2.cdninstagram.com/v/t51.2885-15/94884817_223106345653930_6006500048777032577_n.jpg?stp=dst-jpg_e35&_nc_ht=scontent-hkg4-2.cdninstagram.com&_nc_cat=110&_nc_ohc=7ywur2R4PAEAX83Zdib&edm=APU89FABAAAA&ccb=7-5&oh=00_AfAtyckbLCmQN1YFOgBdy9-jwEKO9JdLmv98VUR5hg4_Jw&oe=64404FD2&_nc_sid=86f79a', ), media_type=1)], clips_metadata={}),\n",
       " Media(pk='2252938598605595299', id='2252938598605595299_1707336878', code='B9EC7gGpyKj', taken_at=datetime.datetime(2020, 2, 27, 8, 13, 51, tzinfo=datetime.timezone.utc), media_type=1, image_versions2={}, product_type='', thumbnail_url=HttpUrl('https://scontent-hkg4-1.cdninstagram.com/v/t51.2885-15/85235617_235910877573655_5362192148576486501_n.jpg?stp=dst-jpg_e35_s1080x1080&_nc_ht=scontent-hkg4-1.cdninstagram.com&_nc_cat=107&_nc_ohc=Zf4NsSXfqWYAX9ZE3nC&edm=APU89FABAAAA&ccb=7-5&oh=00_AfDoYIoSeWsF9qJ6MQ-c_HntdqudqzqE-ciLeEzSwOe2yQ&oe=643FC1B5&_nc_sid=86f79a', ), location=None, user=UserShort(pk='1707336878', username='taemin_25', full_name='', profile_pic_url=None, profile_pic_url_hd=None, is_private=None, stories=[]), comment_count=34, comments_disabled=False, commenting_disabled_for_viewer=False, like_count=87, play_count=None, has_liked=None, caption_text='#parasite', accessibility_caption=None, usertags=[Usertag(user=UserShort(pk='2525039193', username='si_hon_ey', full_name='', profile_pic_url=None, profile_pic_url_hd=None, is_private=None, stories=[]), x=0.0797101204, y=0.8703703704)], sponsor_tags=[], video_url=None, view_count=0, video_duration=0.0, title='', resources=[], clips_metadata={}),\n",
       " Media(pk='2223965388295047835', id='2223965388295047835_1707336878', code='B7dHLzSFwqb', taken_at=datetime.datetime(2020, 1, 18, 8, 49, 15, tzinfo=datetime.timezone.utc), media_type=8, image_versions2={}, product_type='', thumbnail_url=None, location=None, user=UserShort(pk='1707336878', username='taemin_25', full_name='', profile_pic_url=None, profile_pic_url_hd=None, is_private=None, stories=[]), comment_count=29, comments_disabled=False, commenting_disabled_for_viewer=False, like_count=80, play_count=None, has_liked=None, caption_text='생각보다 이쁜곳\\n⠀\\n⠀\\n⠀\\n#청주 #토성 #사진 #이쁘게 #잘나오는 #우리집근처', accessibility_caption=None, usertags=[Usertag(user=UserShort(pk='11522939656', username='t_y_3487', full_name='', profile_pic_url=None, profile_pic_url_hd=None, is_private=None, stories=[]), x=0.6650563607000001, y=0.8526570048000001)], sponsor_tags=[], video_url=None, view_count=0, video_duration=0.0, title='', resources=[Resource(pk='2223965386239735536', video_url=None, thumbnail_url=HttpUrl('https://scontent-hkg4-2.cdninstagram.com/v/t51.2885-15/80449259_123489525820917_2399588128125070081_n.jpg?stp=dst-jpg_e35_s1080x1080&_nc_ht=scontent-hkg4-2.cdninstagram.com&_nc_cat=109&_nc_ohc=pgf6PXSZGcgAX_7rGGm&edm=APU89FABAAAA&ccb=7-5&oh=00_AfDKYaebi2exXHfASw7ZpF6rcy7OYlFwsNZRAzyzLI0Lxg&oe=643FDFB4&_nc_sid=86f79a', ), media_type=1), Resource(pk='2223965386273422048', video_url=None, thumbnail_url=HttpUrl('https://scontent-hkg4-1.cdninstagram.com/v/t51.2885-15/82124538_166103331324211_231228984036014983_n.jpg?stp=dst-jpg_e35_s1080x1080&_nc_ht=scontent-hkg4-1.cdninstagram.com&_nc_cat=107&_nc_ohc=kAcLkILD-okAX-8Rixw&edm=APU89FABAAAA&ccb=7-5&oh=00_AfByQYIg0XNlvxtYcYdYd1bPCckHOl0KiEBqWe4a0mGXJA&oe=643EA16C&_nc_sid=86f79a', ), media_type=1), Resource(pk='2223965386290138639', video_url=None, thumbnail_url=HttpUrl('https://scontent-hkg4-1.cdninstagram.com/v/t51.2885-15/80094723_1270464773145941_4602580983535546683_n.jpg?stp=dst-jpg_e35_s1080x1080&_nc_ht=scontent-hkg4-1.cdninstagram.com&_nc_cat=105&_nc_ohc=XdW4l1TzIfUAX_JQULI&edm=APU89FABAAAA&ccb=7-5&oh=00_AfBMDM3drIuhaBL6-t9TtBXGO_YP44sk670Qpu3fLa2EjA&oe=64402D7C&_nc_sid=86f79a', ), media_type=1), Resource(pk='2223965386281671420', video_url=None, thumbnail_url=HttpUrl('https://scontent-hkg4-2.cdninstagram.com/v/t51.2885-15/80480488_248571846147118_4527398626806923914_n.jpg?stp=dst-jpg_e35_s1080x1080&_nc_ht=scontent-hkg4-2.cdninstagram.com&_nc_cat=110&_nc_ohc=AniibdAxyLMAX_5sXyT&edm=APU89FABAAAA&ccb=7-5&oh=00_AfCAYA9wN1S_qpo-n-mM6jCRBvXgVkqerd0iXMg4dWiAdA&oe=644046AA&_nc_sid=86f79a', ), media_type=1), Resource(pk='2223965386382260112', video_url=None, thumbnail_url=HttpUrl('https://scontent-hkg4-1.cdninstagram.com/v/t51.2885-15/81912445_474656706793255_4800617825650705741_n.jpg?stp=dst-jpg_e35_s1080x1080&_nc_ht=scontent-hkg4-1.cdninstagram.com&_nc_cat=107&_nc_ohc=5ITvWTPuUvsAX8QZzwz&edm=APU89FABAAAA&ccb=7-5&oh=00_AfAkP-AgCOxzonqyZgTCYUGKDR15tjNnYRqkZQqngRbWIA&oe=6440426C&_nc_sid=86f79a', ), media_type=1), Resource(pk='2223965386265049353', video_url=None, thumbnail_url=HttpUrl('https://scontent-hkg4-2.cdninstagram.com/v/t51.2885-15/81347004_251282729172688_628974857629884878_n.jpg?stp=dst-jpg_e35_s1080x1080&_nc_ht=scontent-hkg4-2.cdninstagram.com&_nc_cat=104&_nc_ohc=_7E8QO9Id4EAX_3OEJJ&edm=APU89FABAAAA&ccb=7-5&oh=00_AfDmg7jOs5oMRHJQ2S83fu9Wp7mnHZ2TlTNL5WiTib-nJg&oe=643E7FCA&_nc_sid=86f79a', ), media_type=1), Resource(pk='2223965386273440783', video_url=None, thumbnail_url=HttpUrl('https://scontent-hkg4-1.cdninstagram.com/v/t51.2885-15/81831737_2783845231723585_8674374867534459152_n.jpg?stp=dst-jpg_e35_s1080x1080&_nc_ht=scontent-hkg4-1.cdninstagram.com&_nc_cat=101&_nc_ohc=JKIGiHSX6o0AX9CvlUy&edm=APU89FABAAAA&ccb=7-5&oh=00_AfDL2tlAvm-vQYe0l4jjTEKjoWjYTGs92c0n6qE_nmGBwg&oe=643E84C3&_nc_sid=86f79a', ), media_type=1)], clips_metadata={}),\n",
       " Media(pk='2205907365458656645', id='2205907365458656645_1707336878', code='B6c9Q-9lL2F', taken_at=datetime.datetime(2019, 12, 24, 10, 51, 11, tzinfo=datetime.timezone.utc), media_type=8, image_versions2={}, product_type='', thumbnail_url=None, location=None, user=UserShort(pk='1707336878', username='taemin_25', full_name='', profile_pic_url=None, profile_pic_url_hd=None, is_private=None, stories=[]), comment_count=16, comments_disabled=False, commenting_disabled_for_viewer=False, like_count=96, play_count=None, has_liked=None, caption_text='#제주도 #에서 #모두들 #메리 #크리스마스 ~~🌲🎁🎉🥂🤪', accessibility_caption=None, usertags=[Usertag(user=UserShort(pk='13487555741', username='m_j_j_028', full_name='', profile_pic_url=None, profile_pic_url_hd=None, is_private=None, stories=[]), x=0.0653594807, y=0.9836601298000001), Usertag(user=UserShort(pk='260574228', username='honda', full_name='', profile_pic_url=None, profile_pic_url_hd=None, is_private=None, stories=[]), x=0.48470209340000003, y=0.844605475), Usertag(user=UserShort(pk='9373058621', username='silver._ship', full_name='', profile_pic_url=None, profile_pic_url_hd=None, is_private=None, stories=[]), x=0.9331723027000001, y=0.016339870200000002)], sponsor_tags=[], video_url=None, view_count=0, video_duration=0.0, title='', resources=[Resource(pk='2205907363688705976', video_url=None, thumbnail_url=HttpUrl('https://scontent-hkg4-2.cdninstagram.com/v/t51.2885-15/78744870_187340539058949_7315329284714366983_n.jpg?stp=dst-jpg_e35_s1080x1080&_nc_ht=scontent-hkg4-2.cdninstagram.com&_nc_cat=109&_nc_ohc=_fhpNS1K3l0AX8ndTiD&edm=APU89FABAAAA&ccb=7-5&oh=00_AfCpOJtVxET2DR4wgj8y4wl-p7jgXE_d0mIVbNfux53TVg&oe=643F6944&_nc_sid=86f79a', ), media_type=1), Resource(pk='2205907363663634965', video_url=None, thumbnail_url=HttpUrl('https://scontent-hkg4-1.cdninstagram.com/v/t51.2885-15/76980970_2732582326799419_6713855209481800960_n.jpg?stp=dst-jpg_e35_s1080x1080&_nc_ht=scontent-hkg4-1.cdninstagram.com&_nc_cat=107&_nc_ohc=Ch0Yzy2OaGsAX_UX24W&edm=APU89FABAAAA&ccb=7-5&oh=00_AfD12x5aqwRlfl7yBERnNPtDV1etiJXkL9WrljOSLWB78w&oe=643E7E5A&_nc_sid=86f79a', ), media_type=1), Resource(pk='2205907363680384254', video_url=None, thumbnail_url=HttpUrl('https://scontent-hkg4-1.cdninstagram.com/v/t51.2885-15/79965567_2358470187772183_1203803100706619060_n.jpg?stp=dst-jpg_e35_s1080x1080&_nc_ht=scontent-hkg4-1.cdninstagram.com&_nc_cat=107&_nc_ohc=lacjWE7TleQAX-e6rlk&edm=APU89FABAAAA&ccb=7-5&oh=00_AfC8GhZRxcI8pFox8Gyx3bE1Dllu1wp6b1Ke66vFrMpVoA&oe=643F49E6&_nc_sid=86f79a', ), media_type=1)], clips_metadata={}),\n",
       " Media(pk='2162432712665149908', id='2162432712665149908_1707336878', code='B4CgRhZFzHU', taken_at=datetime.datetime(2019, 10, 25, 11, 14, 49, tzinfo=datetime.timezone.utc), media_type=8, image_versions2={}, product_type='', thumbnail_url=None, location=None, user=UserShort(pk='1707336878', username='taemin_25', full_name='', profile_pic_url=None, profile_pic_url_hd=None, is_private=None, stories=[]), comment_count=17, comments_disabled=False, commenting_disabled_for_viewer=False, like_count=72, play_count=None, has_liked=None, caption_text='가까우면 바로 달려갑니다 어디신가요?? 🛵🛵 #의정부 #카페 #아를 #세발자전거 #스쿠터 #오토바이 #시원한 #금요일밤', accessibility_caption=None, usertags=[], sponsor_tags=[], video_url=None, view_count=0, video_duration=0.0, title='', resources=[Resource(pk='2162432710366514188', video_url=None, thumbnail_url=HttpUrl('https://scontent-hkg4-1.cdninstagram.com/v/t51.2885-15/71279353_755330421594602_6501701762853913263_n.jpg?stp=dst-jpg_e35_s1080x1080&_nc_ht=scontent-hkg4-1.cdninstagram.com&_nc_cat=102&_nc_ohc=7yV5ZvAXnqQAX8CgNdJ&edm=APU89FABAAAA&ccb=7-5&oh=00_AfCmN35pG18mRqraTND-wnLTdIufq8_o_2UrvH6-i1_00w&oe=643FFC90&_nc_sid=86f79a', ), media_type=1), Resource(pk='2162432710391816980', video_url=None, thumbnail_url=HttpUrl('https://scontent-hkg4-1.cdninstagram.com/v/t51.2885-15/71735845_2361578857286412_5372003783177486219_n.jpg?stp=dst-jpg_e35_s1080x1080&_nc_ht=scontent-hkg4-1.cdninstagram.com&_nc_cat=100&_nc_ohc=XG_PbMCxCEoAX97tUh1&edm=APU89FABAAAA&ccb=7-5&oh=00_AfAtDdm-KOvyDuz4cGJ2PMvrdBAuVrbA8Ae_c88kjUi7rw&oe=643E7344&_nc_sid=86f79a', ), media_type=1)], clips_metadata={}),\n",
       " Media(pk='2142786485044511967', id='2142786485044511967_1707336878', code='B28tPSGlgTf', taken_at=datetime.datetime(2019, 9, 28, 8, 41, 16, tzinfo=datetime.timezone.utc), media_type=8, image_versions2={}, product_type='', thumbnail_url=None, location=None, user=UserShort(pk='1707336878', username='taemin_25', full_name='', profile_pic_url=None, profile_pic_url_hd=None, is_private=None, stories=[]), comment_count=15, comments_disabled=False, commenting_disabled_for_viewer=False, like_count=71, play_count=None, has_liked=None, caption_text='나 찾았다 🙈🐵🙈🐵 #잔나비 #숭실대 #달 #꿈나라 #별나라', accessibility_caption=None, usertags=[Usertag(user=UserShort(pk='1245124949', username='bandjannabi', full_name='', profile_pic_url=None, profile_pic_url_hd=None, is_private=None, stories=[]), x=0.1256038647, y=0.0619967794)], sponsor_tags=[], video_url=None, view_count=0, video_duration=0.0, title='', resources=[Resource(pk='2142786482687214852', video_url=None, thumbnail_url=HttpUrl('https://scontent-hkg4-1.cdninstagram.com/v/t51.2885-15/70391181_408043703242808_2774345952612992018_n.jpg?stp=dst-jpg_e35_s1080x1080&_nc_ht=scontent-hkg4-1.cdninstagram.com&_nc_cat=108&_nc_ohc=S6ZL53E8BJUAX_pZgnD&edm=APU89FABAAAA&ccb=7-5&oh=00_AfCLMQsmCwudK_kf12XERyWLEF5oj3dHL69b5VOOsp6A3Q&oe=643E857B&_nc_sid=86f79a', ), media_type=1), Resource(pk='2142786482704176183', video_url=None, thumbnail_url=HttpUrl('https://scontent-hkg4-1.cdninstagram.com/v/t51.2885-15/69825776_135327467790326_6096243473768898107_n.jpg?stp=dst-jpg_e35_s1080x1080&_nc_ht=scontent-hkg4-1.cdninstagram.com&_nc_cat=102&_nc_ohc=B0k2MLrpmTQAX9EOWRz&edm=APU89FABAAAA&ccb=7-5&oh=00_AfCTaTrzvtfHPBnVMxF8GBq6MWPRK64roeI0VGjIjJfgGg&oe=643FA5D0&_nc_sid=86f79a', ), media_type=1)], clips_metadata={}),\n",
       " Media(pk='2115222982892993393', id='2115222982892993393_1707336878', code='B1ayBiUFDtx', taken_at=datetime.datetime(2019, 8, 21, 7, 57, 30, tzinfo=datetime.timezone.utc), media_type=8, image_versions2={}, product_type='', thumbnail_url=None, location=None, user=UserShort(pk='1707336878', username='taemin_25', full_name='', profile_pic_url=None, profile_pic_url_hd=None, is_private=None, stories=[]), comment_count=16, comments_disabled=False, commenting_disabled_for_viewer=False, like_count=80, play_count=None, has_liked=None, caption_text='달을 만지고 싶어 #미술관 #달 #미술 #예술 #화가 #사진 #작가 #여행 #덥다더워 #집 #심심해', accessibility_caption=None, usertags=[Usertag(user=UserShort(pk='2525039193', username='si_hon_ey', full_name='', profile_pic_url=None, profile_pic_url_hd=None, is_private=None, stories=[]), x=0.3961352657, y=0.8156199678)], sponsor_tags=[], video_url=None, view_count=0, video_duration=0.0, title='', resources=[Resource(pk='2115222981290757561', video_url=None, thumbnail_url=HttpUrl('https://scontent-hkg4-2.cdninstagram.com/v/t51.2885-15/67544433_2536796273043167_5108172022716291549_n.jpg?stp=dst-jpg_e35&_nc_ht=scontent-hkg4-2.cdninstagram.com&_nc_cat=111&_nc_ohc=kNdpiYyH8e4AX9yC93f&edm=APU89FABAAAA&ccb=7-5&oh=00_AfAVUKCVFlRa4yCwONFotoCbe-8Cpwz727JkJ9gxCjguPA&oe=643ECFC0&_nc_sid=86f79a', ), media_type=1), Resource(pk='2115222981274117955', video_url=None, thumbnail_url=HttpUrl('https://scontent-hkg4-2.cdninstagram.com/v/t51.2885-15/67099195_372360096776471_1242683368344933648_n.jpg?stp=dst-jpg_e35&_nc_ht=scontent-hkg4-2.cdninstagram.com&_nc_cat=111&_nc_ohc=AtaUuIYZVS0AX_wP7a2&edm=APU89FABAAAA&ccb=7-5&oh=00_AfA4r9e44gugVgRWDUI5pYwzKCu1UiGTbdjNnxpNfUAbsg&oe=643E7D76&_nc_sid=86f79a', ), media_type=1), Resource(pk='2115222981307747357', video_url=None, thumbnail_url=HttpUrl('https://scontent-hkg4-1.cdninstagram.com/v/t51.2885-15/67291196_140530400517097_4734768872537894579_n.jpg?stp=dst-jpg_e35_s1080x1080&_nc_ht=scontent-hkg4-1.cdninstagram.com&_nc_cat=101&_nc_ohc=5XfN1SmLbysAX_Ah79n&edm=APU89FABAAAA&ccb=7-5&oh=00_AfDzgNg-eDR7gKVVHxs7XtghWElTBQotHHV7NYhWQiu8sA&oe=643F00E3&_nc_sid=86f79a', ), media_type=1), Resource(pk='2115222981316060513', video_url=None, thumbnail_url=HttpUrl('https://scontent-hkg4-2.cdninstagram.com/v/t51.2885-15/67787996_892875921091276_954793280528768485_n.jpg?stp=dst-jpg_e35&_nc_ht=scontent-hkg4-2.cdninstagram.com&_nc_cat=104&_nc_ohc=SGZU9P0lMpAAX_5c6TN&edm=APU89FABAAAA&ccb=7-5&oh=00_AfCGKmrSt01b-7qrcNKzY4trlaVJkU5eNk9bKgB_APHKiQ&oe=643F0D7A&_nc_sid=86f79a', ), media_type=1), Resource(pk='2115222981299280892', video_url=None, thumbnail_url=HttpUrl('https://scontent-hkg4-2.cdninstagram.com/v/t51.2885-15/69235720_473549656526812_480784966482890580_n.jpg?stp=dst-jpg_e35_s1080x1080&_nc_ht=scontent-hkg4-2.cdninstagram.com&_nc_cat=104&_nc_ohc=0maOeoPt-YsAX8kyHp_&edm=APU89FABAAAA&ccb=7-5&oh=00_AfBjt5IsyuD6ZvMNyBaagKIdYyNSI-PGRI7IVXc8FJMFqQ&oe=643ED1C4&_nc_sid=86f79a', ), media_type=1)], clips_metadata={}),\n",
       " Media(pk='2073970216095137060', id='2073970216095137060_1707336878', code='BzIOOxVFz0k', taken_at=datetime.datetime(2019, 6, 25, 9, 55, 37, tzinfo=datetime.timezone.utc), media_type=1, image_versions2={}, product_type='', thumbnail_url=HttpUrl('https://scontent-hkg4-2.cdninstagram.com/v/t51.2885-15/64254118_454685625096268_827967793232649346_n.jpg?stp=dst-jpg_e35_s1080x1080&_nc_ht=scontent-hkg4-2.cdninstagram.com&_nc_cat=104&_nc_ohc=JrIi_lc_5rUAX__-1im&edm=APU89FABAAAA&ccb=7-5&oh=00_AfBXoC0dyKkdRkuvCQGf4RrRxZAztoUw1HfN_zOxUSUL5g&oe=644056DC&_nc_sid=86f79a', ), location=None, user=UserShort(pk='1707336878', username='taemin_25', full_name='', profile_pic_url=None, profile_pic_url_hd=None, is_private=None, stories=[]), comment_count=29, comments_disabled=False, commenting_disabled_for_viewer=False, like_count=66, play_count=None, has_liked=None, caption_text='천국의 계단으로... #방학 #시작 #수암골 #천국의계단 #랄라랄ㄹ라라라랄', accessibility_caption=None, usertags=[], sponsor_tags=[], video_url=None, view_count=0, video_duration=0.0, title='', resources=[], clips_metadata={})]"
      ]
     },
     "execution_count": 17,
     "metadata": {},
     "output_type": "execute_result"
    }
   ],
   "source": [
    "medias"
   ]
  },
  {
   "cell_type": "code",
   "execution_count": 5,
   "metadata": {},
   "outputs": [],
   "source": [
    "import requests\n",
    "import config\n",
    "import json\n",
    "import os"
   ]
  },
  {
   "cell_type": "code",
   "execution_count": 15,
   "metadata": {},
   "outputs": [
    {
     "data": {
      "text/plain": [
       "True"
      ]
     },
     "execution_count": 15,
     "metadata": {},
     "output_type": "execute_result"
    }
   ],
   "source": [
    "from dotenv import load_dotenv\n",
    "\n",
    "load_dotenv()"
   ]
  },
  {
   "cell_type": "code",
   "execution_count": 18,
   "metadata": {},
   "outputs": [
    {
     "ename": "JSONDecodeError",
     "evalue": "Expecting value: line 1 column 1 (char 0)",
     "output_type": "error",
     "traceback": [
      "\u001b[0;31m---------------------------------------------------------------------------\u001b[0m",
      "\u001b[0;31mJSONDecodeError\u001b[0m                           Traceback (most recent call last)",
      "File \u001b[0;32m~/Desktop/GPTmate/.gptvenv/lib/python3.9/site-packages/requests/models.py:971\u001b[0m, in \u001b[0;36mResponse.json\u001b[0;34m(self, **kwargs)\u001b[0m\n\u001b[1;32m    970\u001b[0m \u001b[39mtry\u001b[39;00m:\n\u001b[0;32m--> 971\u001b[0m     \u001b[39mreturn\u001b[39;00m complexjson\u001b[39m.\u001b[39;49mloads(\u001b[39mself\u001b[39;49m\u001b[39m.\u001b[39;49mtext, \u001b[39m*\u001b[39;49m\u001b[39m*\u001b[39;49mkwargs)\n\u001b[1;32m    972\u001b[0m \u001b[39mexcept\u001b[39;00m JSONDecodeError \u001b[39mas\u001b[39;00m e:\n\u001b[1;32m    973\u001b[0m     \u001b[39m# Catch JSON-related errors and raise as requests.JSONDecodeError\u001b[39;00m\n\u001b[1;32m    974\u001b[0m     \u001b[39m# This aliases json.JSONDecodeError and simplejson.JSONDecodeError\u001b[39;00m\n",
      "File \u001b[0;32m/Library/Developer/CommandLineTools/Library/Frameworks/Python3.framework/Versions/3.9/lib/python3.9/json/__init__.py:346\u001b[0m, in \u001b[0;36mloads\u001b[0;34m(s, cls, object_hook, parse_float, parse_int, parse_constant, object_pairs_hook, **kw)\u001b[0m\n\u001b[1;32m    343\u001b[0m \u001b[39mif\u001b[39;00m (\u001b[39mcls\u001b[39m \u001b[39mis\u001b[39;00m \u001b[39mNone\u001b[39;00m \u001b[39mand\u001b[39;00m object_hook \u001b[39mis\u001b[39;00m \u001b[39mNone\u001b[39;00m \u001b[39mand\u001b[39;00m\n\u001b[1;32m    344\u001b[0m         parse_int \u001b[39mis\u001b[39;00m \u001b[39mNone\u001b[39;00m \u001b[39mand\u001b[39;00m parse_float \u001b[39mis\u001b[39;00m \u001b[39mNone\u001b[39;00m \u001b[39mand\u001b[39;00m\n\u001b[1;32m    345\u001b[0m         parse_constant \u001b[39mis\u001b[39;00m \u001b[39mNone\u001b[39;00m \u001b[39mand\u001b[39;00m object_pairs_hook \u001b[39mis\u001b[39;00m \u001b[39mNone\u001b[39;00m \u001b[39mand\u001b[39;00m \u001b[39mnot\u001b[39;00m kw):\n\u001b[0;32m--> 346\u001b[0m     \u001b[39mreturn\u001b[39;00m _default_decoder\u001b[39m.\u001b[39;49mdecode(s)\n\u001b[1;32m    347\u001b[0m \u001b[39mif\u001b[39;00m \u001b[39mcls\u001b[39m \u001b[39mis\u001b[39;00m \u001b[39mNone\u001b[39;00m:\n",
      "File \u001b[0;32m/Library/Developer/CommandLineTools/Library/Frameworks/Python3.framework/Versions/3.9/lib/python3.9/json/decoder.py:337\u001b[0m, in \u001b[0;36mJSONDecoder.decode\u001b[0;34m(self, s, _w)\u001b[0m\n\u001b[1;32m    333\u001b[0m \u001b[39m\u001b[39m\u001b[39m\"\"\"Return the Python representation of ``s`` (a ``str`` instance\u001b[39;00m\n\u001b[1;32m    334\u001b[0m \u001b[39mcontaining a JSON document).\u001b[39;00m\n\u001b[1;32m    335\u001b[0m \n\u001b[1;32m    336\u001b[0m \u001b[39m\"\"\"\u001b[39;00m\n\u001b[0;32m--> 337\u001b[0m obj, end \u001b[39m=\u001b[39m \u001b[39mself\u001b[39;49m\u001b[39m.\u001b[39;49mraw_decode(s, idx\u001b[39m=\u001b[39;49m_w(s, \u001b[39m0\u001b[39;49m)\u001b[39m.\u001b[39;49mend())\n\u001b[1;32m    338\u001b[0m end \u001b[39m=\u001b[39m _w(s, end)\u001b[39m.\u001b[39mend()\n",
      "File \u001b[0;32m/Library/Developer/CommandLineTools/Library/Frameworks/Python3.framework/Versions/3.9/lib/python3.9/json/decoder.py:355\u001b[0m, in \u001b[0;36mJSONDecoder.raw_decode\u001b[0;34m(self, s, idx)\u001b[0m\n\u001b[1;32m    354\u001b[0m \u001b[39mexcept\u001b[39;00m \u001b[39mStopIteration\u001b[39;00m \u001b[39mas\u001b[39;00m err:\n\u001b[0;32m--> 355\u001b[0m     \u001b[39mraise\u001b[39;00m JSONDecodeError(\u001b[39m\"\u001b[39m\u001b[39mExpecting value\u001b[39m\u001b[39m\"\u001b[39m, s, err\u001b[39m.\u001b[39mvalue) \u001b[39mfrom\u001b[39;00m \u001b[39mNone\u001b[39;00m\n\u001b[1;32m    356\u001b[0m \u001b[39mreturn\u001b[39;00m obj, end\n",
      "\u001b[0;31mJSONDecodeError\u001b[0m: Expecting value: line 1 column 1 (char 0)",
      "\nDuring handling of the above exception, another exception occurred:\n",
      "\u001b[0;31mJSONDecodeError\u001b[0m                           Traceback (most recent call last)",
      "Cell \u001b[0;32mIn[18], line 22\u001b[0m\n\u001b[1;32m     19\u001b[0m response \u001b[39m=\u001b[39m requests\u001b[39m.\u001b[39mpost(url, data\u001b[39m=\u001b[39mpayload)\n\u001b[1;32m     21\u001b[0m \u001b[39m# 결과 출력\u001b[39;00m\n\u001b[0;32m---> 22\u001b[0m \u001b[39mprint\u001b[39m(response\u001b[39m.\u001b[39;49mjson())\n",
      "File \u001b[0;32m~/Desktop/GPTmate/.gptvenv/lib/python3.9/site-packages/requests/models.py:975\u001b[0m, in \u001b[0;36mResponse.json\u001b[0;34m(self, **kwargs)\u001b[0m\n\u001b[1;32m    971\u001b[0m     \u001b[39mreturn\u001b[39;00m complexjson\u001b[39m.\u001b[39mloads(\u001b[39mself\u001b[39m\u001b[39m.\u001b[39mtext, \u001b[39m*\u001b[39m\u001b[39m*\u001b[39mkwargs)\n\u001b[1;32m    972\u001b[0m \u001b[39mexcept\u001b[39;00m JSONDecodeError \u001b[39mas\u001b[39;00m e:\n\u001b[1;32m    973\u001b[0m     \u001b[39m# Catch JSON-related errors and raise as requests.JSONDecodeError\u001b[39;00m\n\u001b[1;32m    974\u001b[0m     \u001b[39m# This aliases json.JSONDecodeError and simplejson.JSONDecodeError\u001b[39;00m\n\u001b[0;32m--> 975\u001b[0m     \u001b[39mraise\u001b[39;00m RequestsJSONDecodeError(e\u001b[39m.\u001b[39mmsg, e\u001b[39m.\u001b[39mdoc, e\u001b[39m.\u001b[39mpos)\n",
      "\u001b[0;31mJSONDecodeError\u001b[0m: Expecting value: line 1 column 1 (char 0)"
     ]
    }
   ],
   "source": [
    "import requests\n",
    "import json\n",
    "import base64\n",
    "\n",
    "# 인증 정보\n",
    "access_token = os.getenv(\"meta_access_token\") #액세스 토큰 입력\n",
    "url = \"https://graph.instagram.com/me/stories?access_token=\" + access_token\n",
    "\n",
    "# 스토리 업로드\n",
    "image_url = \"https://miro.medium.com/v2/resize:fit:4800/format:webp/1*WeVFxA-Uhon5upZ2iTS6RA.png\"\n",
    "image_data = requests.get(image_url).content\n",
    "b64_image_data = base64.b64encode(image_data).decode('utf-8')\n",
    "\n",
    "payload = {\n",
    "    \"media_type\": \"PHOTO\",\n",
    "    \"media_data\": b64_image_data\n",
    "}\n",
    "\n",
    "response = requests.post(url, data=payload)\n",
    "\n",
    "# 결과 출력\n",
    "print(response.json())\n",
    "\n"
   ]
  },
  {
   "cell_type": "code",
   "execution_count": 16,
   "metadata": {},
   "outputs": [
    {
     "ename": "KeyError",
     "evalue": "'instagram_business_account'",
     "output_type": "error",
     "traceback": [
      "\u001b[0;31m---------------------------------------------------------------------------\u001b[0m",
      "\u001b[0;31mKeyError\u001b[0m                                  Traceback (most recent call last)",
      "Cell \u001b[0;32mIn[16], line 12\u001b[0m\n\u001b[1;32m      8\u001b[0m \u001b[39m#print(r.text)\u001b[39;00m\n\u001b[1;32m     10\u001b[0m insta_biz_acc \u001b[39m=\u001b[39m r\u001b[39m.\u001b[39mjson() \n\u001b[0;32m---> 12\u001b[0m ig_user_id \u001b[39m=\u001b[39m insta_biz_acc[\u001b[39m'\u001b[39;49m\u001b[39minstagram_business_account\u001b[39;49m\u001b[39m'\u001b[39;49m][\u001b[39m'\u001b[39m\u001b[39mid\u001b[39m\u001b[39m'\u001b[39m]\n\u001b[1;32m     14\u001b[0m \u001b[39mprint\u001b[39m(ig_user_id)  \u001b[39m# 인스타그램 비즈니스 계정 ID\u001b[39;00m\n",
      "\u001b[0;31mKeyError\u001b[0m: 'instagram_business_account'"
     ]
    }
   ],
   "source": [
    "page_id_1 = 'sbe07032@naver.com' #페이스북ID 입력\n",
    "\n",
    "access_token = os.getenv(\"meta_access_token\") #액세스 토큰 입력\n",
    "post_url = 'https://graph.facebook.com/v13.0/' + str(page_id_1) + '?fields=instagram_business_account&access_token=' + str(access_token)\n",
    "\n",
    "r = requests.get(post_url)\n",
    "\n",
    "#print(r.text)\n",
    "\n",
    "insta_biz_acc = r.json() \n",
    "\n",
    "ig_user_id = insta_biz_acc['instagram_business_account']['id']\n",
    "\n",
    "print(ig_user_id)  # 인스타그램 비즈니스 계정 ID"
   ]
  },
  {
   "cell_type": "code",
   "execution_count": null,
   "metadata": {},
   "outputs": [
    {
     "data": {
      "text/plain": [
       "{'error': {'message': 'Error validating access token: The session is invalid because the user logged out.',\n",
       "  'type': 'OAuthException',\n",
       "  'code': 190,\n",
       "  'error_subcode': 467,\n",
       "  'fbtrace_id': 'AIxK3F1r5W6w9bhQzm6jrpb'}}"
      ]
     },
     "execution_count": 14,
     "metadata": {},
     "output_type": "execute_result"
    }
   ],
   "source": [
    "insta_biz_acc"
   ]
  },
  {
   "cell_type": "code",
   "execution_count": null,
   "metadata": {},
   "outputs": [],
   "source": []
  }
 ],
 "metadata": {
  "kernelspec": {
   "display_name": ".gptvenv",
   "language": "python",
   "name": "python3"
  },
  "language_info": {
   "codemirror_mode": {
    "name": "ipython",
    "version": 3
   },
   "file_extension": ".py",
   "mimetype": "text/x-python",
   "name": "python",
   "nbconvert_exporter": "python",
   "pygments_lexer": "ipython3",
   "version": "3.9.6"
  },
  "orig_nbformat": 4
 },
 "nbformat": 4,
 "nbformat_minor": 2
}
